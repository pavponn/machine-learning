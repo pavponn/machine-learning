{
 "cells": [
  {
   "cell_type": "code",
   "execution_count": 153,
   "metadata": {},
   "outputs": [],
   "source": [
    "import math\n",
    "import numpy as np\n",
    "from os import listdir\n",
    "from typing import Dict, Tuple, Set, List\n",
    "from tqdm import tqdm\n",
    "import matplotlib.pyplot as plt"
   ]
  },
  {
   "cell_type": "code",
   "execution_count": 53,
   "metadata": {},
   "outputs": [],
   "source": [
    "def n_grams(words, n):\n",
    "    res = []\n",
    "    if len(words) < n:\n",
    "        phrase = \"\"\n",
    "        for j in range(len(words)):\n",
    "            phrase += words[j]\n",
    "            if j != len(words) - 1:\n",
    "                 phrase += \" \"\n",
    "        res.append(phrase)\n",
    "        return res\n",
    "\n",
    "    for i in range(len(words) - n):\n",
    "        cur_phrase = \"\"\n",
    "        for j in range(n):\n",
    "            cur_phrase += words[i + j]\n",
    "            if j != n - 1:\n",
    "                cur_phrase += \" \"\n",
    "        res.append(cur_phrase)\n",
    "    return res\n",
    "        \n",
    "\n",
    "class Email(object):\n",
    "    def __init__(self, filename, subject, body):\n",
    "        self.filename = filename\n",
    "        self.subject = subject\n",
    "        self.body = body\n",
    "    \n",
    "    def is_spam(self):\n",
    "        return \"spmsg\" in self.filename\n",
    "    \n",
    "    def is_legit(self):\n",
    "        return not self.is_spam()\n",
    "    \n",
    "    def subject_n_grams(self, n):\n",
    "        return n_grams(self.subject, n)\n",
    "    \n",
    "    def body_n_grams(self, n):\n",
    "        return n_grams(self.body, n)\n",
    "        \n",
    "\n",
    "def file_names(dirname):\n",
    "    return [ dirname + \"/\" + filename for filename in listdir(dirname)]\n",
    "\n",
    "def read_file(filename):\n",
    "    file = open(filename, \"r\")\n",
    "    subject = file.readline().split()[1:]\n",
    "    file.readline()\n",
    "    body = file.readline().split()\n",
    "    return Email(filename, subject, body)"
   ]
  },
  {
   "cell_type": "code",
   "execution_count": 54,
   "metadata": {},
   "outputs": [],
   "source": [
    "alphas = [1e-6, 1e-5, 1e-4]\n",
    "ns = [1, 2, 3]\n",
    "lambdas = [10 ** x for x in range(55)]\n",
    "lambda_spam = 1\n",
    "\n",
    "LEGIT_CLASS = 0\n",
    "SPAM_CLASS = 1\n",
    "PARTS_NUM = 10\n",
    "EPS = 1e-10\n",
    "classes = [LEGIT_CLASS, SPAM_CLASS]\n"
   ]
  },
  {
   "cell_type": "code",
   "execution_count": 55,
   "metadata": {},
   "outputs": [],
   "source": [
    "class Stat(object):\n",
    "    def __init__(self, classes_num: Dict[int, int], all_phrases: Set[str],\n",
    "                     phrase_in_class_k: Dict[Tuple[str, int], int]):\n",
    "        self.classes_num = classes_num\n",
    "        self.all_phrases = all_phrases\n",
    "        self.phrase_in_class_k = phrase_in_class_k\n",
    "\n",
    "\n",
    "def calculate_likelihood_probabilities(alpha: float, stat: Stat) -> Dict[Tuple[str, int], Tuple[float, float]]:\n",
    "    likelihood_probabilities: Dict[Tuple[str, int], Tuple[float, float]] = {}\n",
    "    for phrase in stat.all_phrases:\n",
    "        for cl in classes:\n",
    "            count = 0\n",
    "            if (phrase, cl) in stat.phrase_in_class_k:\n",
    "                count = stat.phrase_in_class_k[(phrase, cl)]\n",
    "            numerator = count + alpha + 0.000\n",
    "            denominator = stat.classes_num[cl] + alpha * 2 + 0.0000\n",
    "            likelihood_probabilities[(phrase, cl)] = (numerator, denominator)\n",
    "    return likelihood_probabilities"
   ]
  },
  {
   "cell_type": "code",
   "execution_count": 56,
   "metadata": {},
   "outputs": [],
   "source": [
    "def get_train_data(dir_index: int):\n",
    "    emails = []\n",
    "    dirname = \"part\" + str(dir_index)\n",
    "    filenames = file_names(dirname)\n",
    "    for filename in filenames:\n",
    "        email = read_file(filename)\n",
    "        emails.append(email)\n",
    "    return emails\n",
    "\n",
    "def train_data_to_local_stat(emails: List[Email], n: int):\n",
    "    classes_num = {}\n",
    "    classes_num[SPAM_CLASS] = 0\n",
    "    classes_num[LEGIT_CLASS] = 0\n",
    "    all_phrases: Set[str] = set() \n",
    "    phrase_in_class_k: Dict[Tuple[str, int], int] = {}\n",
    "    for email in emails:\n",
    "        clazz = LEGIT_CLASS\n",
    "        if email.is_spam():\n",
    "            clazz = SPAM_CLASS\n",
    "        classes_num[clazz] += 1\n",
    "        subject_n_grams = email.subject_n_grams(n)\n",
    "        body_n_grams = email.body_n_grams(n)\n",
    "        unique_phrases = set(subject_n_grams + body_n_grams)\n",
    "        for phrase in unique_phrases:\n",
    "            all_phrases.add(phrase)\n",
    "            if (phrase, clazz) in phrase_in_class_k:\n",
    "                phrase_in_class_k[(phrase, clazz)] += 1\n",
    "            else:\n",
    "                phrase_in_class_k[(phrase, clazz)] = 1\n",
    "    return Stat(classes_num, all_phrases, phrase_in_class_k)        \n"
   ]
  },
  {
   "cell_type": "code",
   "execution_count": 57,
   "metadata": {},
   "outputs": [],
   "source": [
    "parts: List[List[Email]] = []\n",
    "for part in range(1, PARTS_NUM + 1):\n",
    "    if part == 3 or part == 5 or part == 7:\n",
    "        continue\n",
    "    parts.append(get_train_data(part))"
   ]
  },
  {
   "cell_type": "code",
   "execution_count": 58,
   "metadata": {},
   "outputs": [],
   "source": [
    "def predict(stat: Stat, likelihood_probabilities, email: Email, lamda_legit, n: int):\n",
    "    lambdas = [0, 0]\n",
    "    lambdas[LEGIT_CLASS] = lambda_legit\n",
    "    lambdas[SPAM_CLASS] = lambda_spam\n",
    "    this_phrases = set(email.subject_n_grams(n) + email.body_n_grams(n))\n",
    "    num = [0] * 2\n",
    "    for cl in classes:\n",
    "        this_num = 0\n",
    "        this_num += math.log(lambdas[cl] * (EPS + stat.classes_num[cl] / n))\n",
    "        for phrase in stat.all_phrases.difference(this_phrases):\n",
    "            this_num += math.log(1 - (likelihood_probabilities[(phrase, cl)][0] / likelihood_probabilities[(phrase, cl)][1]))\n",
    "        for phrase in this_phrases.intersection(stat.all_phrases):\n",
    "            this_num += math.log(likelihood_probabilities[(phrase, cl)][0] / likelihood_probabilities[(phrase, cl)][1])\n",
    "        num[cl] = this_num\n",
    "    max_num = max(num)\n",
    "    snd = 0\n",
    "    for ln_pr in num:\n",
    "        snd += math.exp(ln_pr - max_num)\n",
    "    snd = math.log(snd) + max_num\n",
    "    spam_probability = math.exp(num[SPAM_CLASS] - snd)\n",
    "    legit_probability = math.exp(num[LEGIT_CLASS] - snd)\n",
    "    if spam_probability > legit_probability:\n",
    "        return SPAM_CLASS\n",
    "    else:\n",
    "        return LEGIT_CLASS\n",
    "\n",
    "\n",
    "def model(alpha, n, lambda_legit):\n",
    "    accuracy = 0\n",
    "    lost_legits = []\n",
    "    \n",
    "    for test_index in range(len(parts)):\n",
    "        train_emails: List[Email] = []\n",
    "        for train_i in range(len(parts)):\n",
    "            if train_i == test_index:\n",
    "                continue\n",
    "            train_emails.extend(parts[train_i])\n",
    "        train_stat = train_data_to_local_stat(train_emails, n)\n",
    "        likelihood_probabilities = calculate_likelihood_probabilities(alpha, train_stat)\n",
    "        test_emails: List[Email] = []\n",
    "        test_emails.extend(parts[test_index])\n",
    "        for test_email in test_emails:\n",
    "            res = predict(train_stat, likelihood_probabilities, test_email, lambda_legit, n)\n",
    "            if res == SPAM_CLASS and test_email.is_spam() or res == LEGIT_CLASS and test_email.is_legit():\n",
    "                accuracy += 1\n",
    "#             else:\n",
    "#                 print(f'ERROR: {res} for {test_email.filename}')\n",
    "            if res == SPAM_CLASS and test_email.is_legit():\n",
    "                lost_legits.append(test_email.filename)\n",
    "    return accuracy, lost_legits"
   ]
  },
  {
   "cell_type": "code",
   "execution_count": 59,
   "metadata": {},
   "outputs": [
    {
     "name": "stdout",
     "output_type": "stream",
     "text": [
      "parameters alpha=1e-06, n=1, lambda_legit=1: accuracy=0.9698558322411533, lost legits=6\n",
      "parameters alpha=1e-06, n=1, lambda_legit=10: accuracy=0.9685452162516383, lost legits=6\n",
      "parameters alpha=1e-06, n=1, lambda_legit=100: accuracy=0.9659239842726082, lost legits=6\n",
      "parameters alpha=1e-06, n=1, lambda_legit=1000: accuracy=0.9659239842726082, lost legits=5\n",
      "parameters alpha=1e-06, n=1, lambda_legit=10000: accuracy=0.9646133682830931, lost legits=5\n",
      "parameters alpha=1e-06, n=1, lambda_legit=100000: accuracy=0.9646133682830931, lost legits=5\n",
      "parameters alpha=1e-06, n=1, lambda_legit=1000000: accuracy=0.9593709043250328, lost legits=5\n",
      "parameters alpha=1e-06, n=1, lambda_legit=10000000: accuracy=0.9593709043250328, lost legits=4\n",
      "parameters alpha=1e-06, n=1, lambda_legit=100000000: accuracy=0.9567496723460026, lost legits=4\n",
      "parameters alpha=1e-06, n=1, lambda_legit=1000000000: accuracy=0.9554390563564875, lost legits=4\n",
      "parameters alpha=1e-06, n=1, lambda_legit=10000000000: accuracy=0.9528178243774574, lost legits=4\n",
      "parameters alpha=1e-06, n=1, lambda_legit=100000000000: accuracy=0.9528178243774574, lost legits=4\n",
      "parameters alpha=1e-06, n=1, lambda_legit=1000000000000: accuracy=0.9501965923984272, lost legits=4\n",
      "parameters alpha=1e-06, n=1, lambda_legit=10000000000000: accuracy=0.9488859764089121, lost legits=4\n",
      "parameters alpha=1e-06, n=1, lambda_legit=100000000000000: accuracy=0.9475753604193972, lost legits=4\n",
      "parameters alpha=1e-06, n=1, lambda_legit=1000000000000000: accuracy=0.9475753604193972, lost legits=4\n",
      "parameters alpha=1e-06, n=1, lambda_legit=10000000000000000: accuracy=0.9462647444298821, lost legits=4\n",
      "parameters alpha=1e-06, n=1, lambda_legit=100000000000000000: accuracy=0.9423328964613368, lost legits=4\n",
      "parameters alpha=1e-06, n=1, lambda_legit=1000000000000000000: accuracy=0.9410222804718218, lost legits=4\n",
      "parameters alpha=1e-06, n=1, lambda_legit=10000000000000000000: accuracy=0.9384010484927916, lost legits=3\n",
      "parameters alpha=1e-06, n=1, lambda_legit=100000000000000000000: accuracy=0.9384010484927916, lost legits=3\n",
      "parameters alpha=1e-06, n=1, lambda_legit=1000000000000000000000: accuracy=0.9357798165137615, lost legits=3\n",
      "parameters alpha=1e-06, n=1, lambda_legit=10000000000000000000000: accuracy=0.9331585845347313, lost legits=3\n",
      "parameters alpha=1e-06, n=1, lambda_legit=100000000000000000000000: accuracy=0.9305373525557011, lost legits=3\n",
      "parameters alpha=1e-06, n=1, lambda_legit=1000000000000000000000000: accuracy=0.926605504587156, lost legits=3\n",
      "parameters alpha=1e-06, n=1, lambda_legit=10000000000000000000000000: accuracy=0.9239842726081258, lost legits=3\n",
      "parameters alpha=1e-06, n=1, lambda_legit=100000000000000000000000000: accuracy=0.9213630406290957, lost legits=3\n",
      "parameters alpha=1e-06, n=1, lambda_legit=1000000000000000000000000000: accuracy=0.9200524246395806, lost legits=3\n",
      "parameters alpha=1e-06, n=1, lambda_legit=10000000000000000000000000000: accuracy=0.9187418086500655, lost legits=2\n",
      "parameters alpha=1e-06, n=1, lambda_legit=100000000000000000000000000000: accuracy=0.9148099606815203, lost legits=1\n",
      "parameters alpha=1e-06, n=1, lambda_legit=1000000000000000000000000000000: accuracy=0.9108781127129751, lost legits=1\n",
      "parameters alpha=1e-06, n=1, lambda_legit=10000000000000000000000000000000: accuracy=0.9108781127129751, lost legits=1\n",
      "parameters alpha=1e-06, n=1, lambda_legit=100000000000000000000000000000000: accuracy=0.9056356487549148, lost legits=1\n",
      "parameters alpha=1e-06, n=1, lambda_legit=1000000000000000000000000000000000: accuracy=0.9030144167758847, lost legits=1\n",
      "parameters alpha=1e-06, n=1, lambda_legit=10000000000000000000000000000000000: accuracy=0.8964613368283093, lost legits=1\n",
      "parameters alpha=1e-06, n=1, lambda_legit=100000000000000000000000000000000000: accuracy=0.891218872870249, lost legits=1\n",
      "parameters alpha=1e-06, n=1, lambda_legit=1000000000000000000000000000000000000: accuracy=0.8899082568807339, lost legits=1\n",
      "parameters alpha=1e-06, n=1, lambda_legit=10000000000000000000000000000000000000: accuracy=0.8899082568807339, lost legits=1\n",
      "parameters alpha=1e-06, n=1, lambda_legit=100000000000000000000000000000000000000: accuracy=0.8885976408912188, lost legits=1\n",
      "parameters alpha=1e-06, n=1, lambda_legit=1000000000000000000000000000000000000000: accuracy=0.8872870249017037, lost legits=1\n",
      "parameters alpha=1e-06, n=1, lambda_legit=10000000000000000000000000000000000000000: accuracy=0.8846657929226737, lost legits=1\n",
      "parameters alpha=1e-06, n=1, lambda_legit=100000000000000000000000000000000000000000: accuracy=0.8781127129750983, lost legits=1\n",
      "parameters alpha=1e-06, n=1, lambda_legit=1000000000000000000000000000000000000000000: accuracy=0.8741808650065531, lost legits=1\n",
      "parameters alpha=1e-06, n=1, lambda_legit=10000000000000000000000000000000000000000000: accuracy=0.8676277850589778, lost legits=1\n",
      "parameters alpha=1e-06, n=1, lambda_legit=100000000000000000000000000000000000000000000: accuracy=0.8650065530799476, lost legits=1\n",
      "parameters alpha=1e-06, n=1, lambda_legit=1000000000000000000000000000000000000000000000: accuracy=0.8623853211009175, lost legits=1\n",
      "parameters alpha=1e-06, n=1, lambda_legit=10000000000000000000000000000000000000000000000: accuracy=0.8610747051114024, lost legits=1\n",
      "parameters alpha=1e-06, n=1, lambda_legit=100000000000000000000000000000000000000000000000: accuracy=0.8584534731323722, lost legits=1\n",
      "parameters alpha=1e-06, n=1, lambda_legit=1000000000000000000000000000000000000000000000000: accuracy=0.8571428571428571, lost legits=1\n",
      "parameters alpha=1e-06, n=1, lambda_legit=10000000000000000000000000000000000000000000000000: accuracy=0.854521625163827, lost legits=1\n",
      "parameters alpha=1e-06, n=1, lambda_legit=100000000000000000000000000000000000000000000000000: accuracy=0.8519003931847968, lost legits=0\n",
      "parameters alpha=1e-06, n=1, lambda_legit=1000000000000000000000000000000000000000000000000000: accuracy=0.8492791612057667, lost legits=0\n",
      "parameters alpha=1e-06, n=1, lambda_legit=10000000000000000000000000000000000000000000000000000: accuracy=0.8466579292267365, lost legits=0\n",
      "parameters alpha=1e-06, n=1, lambda_legit=100000000000000000000000000000000000000000000000000000: accuracy=0.8440366972477065, lost legits=0\n",
      "parameters alpha=1e-06, n=1, lambda_legit=1000000000000000000000000000000000000000000000000000000: accuracy=0.8427260812581914, lost legits=0\n",
      "parameters alpha=1e-05, n=1, lambda_legit=1: accuracy=0.9672346002621232, lost legits=8\n",
      "parameters alpha=1e-05, n=1, lambda_legit=10: accuracy=0.9659239842726082, lost legits=6\n",
      "parameters alpha=1e-05, n=1, lambda_legit=100: accuracy=0.9646133682830931, lost legits=6\n",
      "parameters alpha=1e-05, n=1, lambda_legit=1000: accuracy=0.9646133682830931, lost legits=5\n",
      "parameters alpha=1e-05, n=1, lambda_legit=10000: accuracy=0.9646133682830931, lost legits=5\n",
      "parameters alpha=1e-05, n=1, lambda_legit=100000: accuracy=0.9606815203145478, lost legits=5\n",
      "parameters alpha=1e-05, n=1, lambda_legit=1000000: accuracy=0.9580602883355177, lost legits=4\n",
      "parameters alpha=1e-05, n=1, lambda_legit=10000000: accuracy=0.9567496723460026, lost legits=4\n",
      "parameters alpha=1e-05, n=1, lambda_legit=100000000: accuracy=0.9541284403669725, lost legits=4\n",
      "parameters alpha=1e-05, n=1, lambda_legit=1000000000: accuracy=0.9528178243774574, lost legits=4\n",
      "parameters alpha=1e-05, n=1, lambda_legit=10000000000: accuracy=0.9515072083879423, lost legits=4\n",
      "parameters alpha=1e-05, n=1, lambda_legit=100000000000: accuracy=0.9515072083879423, lost legits=4\n",
      "parameters alpha=1e-05, n=1, lambda_legit=1000000000000: accuracy=0.9475753604193972, lost legits=4\n",
      "parameters alpha=1e-05, n=1, lambda_legit=10000000000000: accuracy=0.9462647444298821, lost legits=4\n",
      "parameters alpha=1e-05, n=1, lambda_legit=100000000000000: accuracy=0.9436435124508519, lost legits=4\n",
      "parameters alpha=1e-05, n=1, lambda_legit=1000000000000000: accuracy=0.9436435124508519, lost legits=4\n",
      "parameters alpha=1e-05, n=1, lambda_legit=10000000000000000: accuracy=0.9397116644823067, lost legits=4\n",
      "parameters alpha=1e-05, n=1, lambda_legit=100000000000000000: accuracy=0.9397116644823067, lost legits=3\n",
      "parameters alpha=1e-05, n=1, lambda_legit=1000000000000000000: accuracy=0.9370904325032765, lost legits=3\n",
      "parameters alpha=1e-05, n=1, lambda_legit=10000000000000000000: accuracy=0.9344692005242464, lost legits=3\n"
     ]
    },
    {
     "name": "stdout",
     "output_type": "stream",
     "text": [
      "parameters alpha=1e-05, n=1, lambda_legit=100000000000000000000: accuracy=0.9318479685452162, lost legits=3\n",
      "parameters alpha=1e-05, n=1, lambda_legit=1000000000000000000000: accuracy=0.927916120576671, lost legits=3\n",
      "parameters alpha=1e-05, n=1, lambda_legit=10000000000000000000000: accuracy=0.9252948885976409, lost legits=2\n",
      "parameters alpha=1e-05, n=1, lambda_legit=100000000000000000000000: accuracy=0.9226736566186108, lost legits=2\n",
      "parameters alpha=1e-05, n=1, lambda_legit=1000000000000000000000000: accuracy=0.9174311926605505, lost legits=2\n",
      "parameters alpha=1e-05, n=1, lambda_legit=10000000000000000000000000: accuracy=0.9161205766710354, lost legits=2\n",
      "parameters alpha=1e-05, n=1, lambda_legit=100000000000000000000000000: accuracy=0.9121887287024901, lost legits=2\n",
      "parameters alpha=1e-05, n=1, lambda_legit=1000000000000000000000000000: accuracy=0.90956749672346, lost legits=2\n",
      "parameters alpha=1e-05, n=1, lambda_legit=10000000000000000000000000000: accuracy=0.9069462647444299, lost legits=1\n",
      "parameters alpha=1e-05, n=1, lambda_legit=100000000000000000000000000000: accuracy=0.9017038007863696, lost legits=1\n",
      "parameters alpha=1e-05, n=1, lambda_legit=1000000000000000000000000000000: accuracy=0.8977719528178244, lost legits=1\n",
      "parameters alpha=1e-05, n=1, lambda_legit=10000000000000000000000000000000: accuracy=0.8951507208387942, lost legits=1\n",
      "parameters alpha=1e-05, n=1, lambda_legit=100000000000000000000000000000000: accuracy=0.891218872870249, lost legits=1\n",
      "parameters alpha=1e-05, n=1, lambda_legit=1000000000000000000000000000000000: accuracy=0.8885976408912188, lost legits=1\n",
      "parameters alpha=1e-05, n=1, lambda_legit=10000000000000000000000000000000000: accuracy=0.8859764089121888, lost legits=1\n",
      "parameters alpha=1e-05, n=1, lambda_legit=100000000000000000000000000000000000: accuracy=0.8820445609436435, lost legits=1\n",
      "parameters alpha=1e-05, n=1, lambda_legit=1000000000000000000000000000000000000: accuracy=0.8794233289646134, lost legits=1\n",
      "parameters alpha=1e-05, n=1, lambda_legit=10000000000000000000000000000000000000: accuracy=0.8768020969855832, lost legits=1\n",
      "parameters alpha=1e-05, n=1, lambda_legit=100000000000000000000000000000000000000: accuracy=0.8702490170380078, lost legits=1\n",
      "parameters alpha=1e-05, n=1, lambda_legit=1000000000000000000000000000000000000000: accuracy=0.8636959370904325, lost legits=1\n",
      "parameters alpha=1e-05, n=1, lambda_legit=10000000000000000000000000000000000000000: accuracy=0.8623853211009175, lost legits=1\n",
      "parameters alpha=1e-05, n=1, lambda_legit=100000000000000000000000000000000000000000: accuracy=0.8610747051114024, lost legits=1\n",
      "parameters alpha=1e-05, n=1, lambda_legit=1000000000000000000000000000000000000000000: accuracy=0.8597640891218873, lost legits=1\n",
      "parameters alpha=1e-05, n=1, lambda_legit=10000000000000000000000000000000000000000000: accuracy=0.8571428571428571, lost legits=1\n",
      "parameters alpha=1e-05, n=1, lambda_legit=100000000000000000000000000000000000000000000: accuracy=0.854521625163827, lost legits=1\n",
      "parameters alpha=1e-05, n=1, lambda_legit=1000000000000000000000000000000000000000000000: accuracy=0.8519003931847968, lost legits=1\n",
      "parameters alpha=1e-05, n=1, lambda_legit=10000000000000000000000000000000000000000000000: accuracy=0.8519003931847968, lost legits=1\n",
      "parameters alpha=1e-05, n=1, lambda_legit=100000000000000000000000000000000000000000000000: accuracy=0.8466579292267365, lost legits=1\n",
      "parameters alpha=1e-05, n=1, lambda_legit=1000000000000000000000000000000000000000000000000: accuracy=0.8479685452162516, lost legits=0\n",
      "parameters alpha=1e-05, n=1, lambda_legit=10000000000000000000000000000000000000000000000000: accuracy=0.8427260812581914, lost legits=0\n",
      "parameters alpha=1e-05, n=1, lambda_legit=100000000000000000000000000000000000000000000000000: accuracy=0.8374836173001311, lost legits=0\n",
      "parameters alpha=1e-05, n=1, lambda_legit=1000000000000000000000000000000000000000000000000000: accuracy=0.8335517693315858, lost legits=0\n",
      "parameters alpha=1e-05, n=1, lambda_legit=10000000000000000000000000000000000000000000000000000: accuracy=0.8296199213630406, lost legits=0\n",
      "parameters alpha=1e-05, n=1, lambda_legit=100000000000000000000000000000000000000000000000000000: accuracy=0.8296199213630406, lost legits=0\n",
      "parameters alpha=1e-05, n=1, lambda_legit=1000000000000000000000000000000000000000000000000000000: accuracy=0.8283093053735255, lost legits=0\n",
      "parameters alpha=0.0001, n=1, lambda_legit=1: accuracy=0.9659239842726082, lost legits=8\n",
      "parameters alpha=0.0001, n=1, lambda_legit=10: accuracy=0.9619921363040629, lost legits=8\n",
      "parameters alpha=0.0001, n=1, lambda_legit=100: accuracy=0.9606815203145478, lost legits=8\n",
      "parameters alpha=0.0001, n=1, lambda_legit=1000: accuracy=0.9619921363040629, lost legits=7\n",
      "parameters alpha=0.0001, n=1, lambda_legit=10000: accuracy=0.9593709043250328, lost legits=5\n",
      "parameters alpha=0.0001, n=1, lambda_legit=100000: accuracy=0.9593709043250328, lost legits=4\n",
      "parameters alpha=0.0001, n=1, lambda_legit=1000000: accuracy=0.9554390563564875, lost legits=4\n",
      "parameters alpha=0.0001, n=1, lambda_legit=10000000: accuracy=0.9528178243774574, lost legits=4\n",
      "parameters alpha=0.0001, n=1, lambda_legit=100000000: accuracy=0.9515072083879423, lost legits=4\n",
      "parameters alpha=0.0001, n=1, lambda_legit=1000000000: accuracy=0.9515072083879423, lost legits=4\n",
      "parameters alpha=0.0001, n=1, lambda_legit=10000000000: accuracy=0.9488859764089121, lost legits=4\n",
      "parameters alpha=0.0001, n=1, lambda_legit=100000000000: accuracy=0.9462647444298821, lost legits=4\n",
      "parameters alpha=0.0001, n=1, lambda_legit=1000000000000: accuracy=0.9436435124508519, lost legits=4\n",
      "parameters alpha=0.0001, n=1, lambda_legit=10000000000000: accuracy=0.9423328964613368, lost legits=4\n",
      "parameters alpha=0.0001, n=1, lambda_legit=100000000000000: accuracy=0.9410222804718218, lost legits=4\n",
      "parameters alpha=0.0001, n=1, lambda_legit=1000000000000000: accuracy=0.9384010484927916, lost legits=3\n",
      "parameters alpha=0.0001, n=1, lambda_legit=10000000000000000: accuracy=0.9370904325032765, lost legits=2\n",
      "parameters alpha=0.0001, n=1, lambda_legit=100000000000000000: accuracy=0.9318479685452162, lost legits=2\n",
      "parameters alpha=0.0001, n=1, lambda_legit=1000000000000000000: accuracy=0.9305373525557011, lost legits=2\n",
      "parameters alpha=0.0001, n=1, lambda_legit=10000000000000000000: accuracy=0.9239842726081258, lost legits=2\n",
      "parameters alpha=0.0001, n=1, lambda_legit=100000000000000000000: accuracy=0.9187418086500655, lost legits=2\n",
      "parameters alpha=0.0001, n=1, lambda_legit=1000000000000000000000: accuracy=0.9174311926605505, lost legits=2\n",
      "parameters alpha=0.0001, n=1, lambda_legit=10000000000000000000000: accuracy=0.9148099606815203, lost legits=2\n",
      "parameters alpha=0.0001, n=1, lambda_legit=100000000000000000000000: accuracy=0.9121887287024901, lost legits=2\n",
      "parameters alpha=0.0001, n=1, lambda_legit=1000000000000000000000000: accuracy=0.9043250327653998, lost legits=2\n",
      "parameters alpha=0.0001, n=1, lambda_legit=10000000000000000000000000: accuracy=0.9003931847968545, lost legits=2\n",
      "parameters alpha=0.0001, n=1, lambda_legit=100000000000000000000000000: accuracy=0.8964613368283093, lost legits=2\n",
      "parameters alpha=0.0001, n=1, lambda_legit=1000000000000000000000000000: accuracy=0.8964613368283093, lost legits=1\n",
      "parameters alpha=0.0001, n=1, lambda_legit=10000000000000000000000000000: accuracy=0.8925294888597641, lost legits=1\n",
      "parameters alpha=0.0001, n=1, lambda_legit=100000000000000000000000000000: accuracy=0.8846657929226737, lost legits=1\n",
      "parameters alpha=0.0001, n=1, lambda_legit=1000000000000000000000000000000: accuracy=0.8820445609436435, lost legits=1\n",
      "parameters alpha=0.0001, n=1, lambda_legit=10000000000000000000000000000000: accuracy=0.8794233289646134, lost legits=1\n",
      "parameters alpha=0.0001, n=1, lambda_legit=100000000000000000000000000000000: accuracy=0.8768020969855832, lost legits=1\n",
      "parameters alpha=0.0001, n=1, lambda_legit=1000000000000000000000000000000000: accuracy=0.872870249017038, lost legits=1\n",
      "parameters alpha=0.0001, n=1, lambda_legit=10000000000000000000000000000000000: accuracy=0.8676277850589778, lost legits=1\n",
      "parameters alpha=0.0001, n=1, lambda_legit=100000000000000000000000000000000000: accuracy=0.8636959370904325, lost legits=1\n"
     ]
    },
    {
     "name": "stdout",
     "output_type": "stream",
     "text": [
      "parameters alpha=0.0001, n=1, lambda_legit=1000000000000000000000000000000000000: accuracy=0.8597640891218873, lost legits=1\n",
      "parameters alpha=0.0001, n=1, lambda_legit=10000000000000000000000000000000000000: accuracy=0.8584534731323722, lost legits=1\n",
      "parameters alpha=0.0001, n=1, lambda_legit=100000000000000000000000000000000000000: accuracy=0.854521625163827, lost legits=1\n",
      "parameters alpha=0.0001, n=1, lambda_legit=1000000000000000000000000000000000000000: accuracy=0.854521625163827, lost legits=1\n",
      "parameters alpha=0.0001, n=1, lambda_legit=10000000000000000000000000000000000000000: accuracy=0.854521625163827, lost legits=1\n",
      "parameters alpha=0.0001, n=1, lambda_legit=100000000000000000000000000000000000000000: accuracy=0.8505897771952818, lost legits=1\n",
      "parameters alpha=0.0001, n=1, lambda_legit=1000000000000000000000000000000000000000000: accuracy=0.8466579292267365, lost legits=1\n",
      "parameters alpha=0.0001, n=1, lambda_legit=10000000000000000000000000000000000000000000: accuracy=0.8427260812581914, lost legits=1\n",
      "parameters alpha=0.0001, n=1, lambda_legit=100000000000000000000000000000000000000000000: accuracy=0.8374836173001311, lost legits=1\n",
      "parameters alpha=0.0001, n=1, lambda_legit=1000000000000000000000000000000000000000000000: accuracy=0.8348623853211009, lost legits=1\n",
      "parameters alpha=0.0001, n=1, lambda_legit=10000000000000000000000000000000000000000000000: accuracy=0.8322411533420708, lost legits=0\n",
      "parameters alpha=0.0001, n=1, lambda_legit=100000000000000000000000000000000000000000000000: accuracy=0.8322411533420708, lost legits=0\n",
      "parameters alpha=0.0001, n=1, lambda_legit=1000000000000000000000000000000000000000000000000: accuracy=0.8309305373525557, lost legits=0\n",
      "parameters alpha=0.0001, n=1, lambda_legit=10000000000000000000000000000000000000000000000000: accuracy=0.8296199213630406, lost legits=0\n",
      "parameters alpha=0.0001, n=1, lambda_legit=100000000000000000000000000000000000000000000000000: accuracy=0.8283093053735255, lost legits=0\n",
      "parameters alpha=0.0001, n=1, lambda_legit=1000000000000000000000000000000000000000000000000000: accuracy=0.8256880733944955, lost legits=0\n",
      "parameters alpha=0.0001, n=1, lambda_legit=10000000000000000000000000000000000000000000000000000: accuracy=0.8243774574049804, lost legits=0\n",
      "parameters alpha=0.0001, n=1, lambda_legit=100000000000000000000000000000000000000000000000000000: accuracy=0.8230668414154653, lost legits=0\n",
      "parameters alpha=0.0001, n=1, lambda_legit=1000000000000000000000000000000000000000000000000000000: accuracy=0.8230668414154653, lost legits=0\n",
      "Best alpha: 1e-06\n",
      "Best lambda: 100000000000000000000000000000000000000000000000000\n"
     ]
    }
   ],
   "source": [
    "all_size = 0\n",
    "for part in parts:\n",
    "    all_size += len(part)\n",
    "best_alpha = -1\n",
    "best_lambda = -1\n",
    "best_accuracy = -1\n",
    "for alpha in alphas:\n",
    "        for lambda_legit in lambdas:\n",
    "            accuracy, lost_legits = model(alpha, 1, lambda_legit)\n",
    "            accuracy = accuracy / all_size\n",
    "            print(f'parameters alpha={alpha}, n={1}, lambda_legit={lambda_legit}: accuracy={accuracy}, lost legits={len(lost_legits)}')\n",
    "            if len(lost_legits) == 0 and accuracy > best_accuracy:\n",
    "                best_accuracy = accuracy\n",
    "                best_alpha = alpha\n",
    "                best_lambda = lambda_legit\n",
    "print(f'Best alpha: {best_alpha}')\n",
    "print(f'Best lambda: {best_lambda}')"
   ]
  },
  {
   "cell_type": "code",
   "execution_count": 60,
   "metadata": {},
   "outputs": [
    {
     "name": "stdout",
     "output_type": "stream",
     "text": [
      "Best alpha: 1e-06\n",
      "Best lambda: 100000000000000000000000000000000000000000000000000\n",
      "Best accuracy: 0.8519003931847968\n"
     ]
    }
   ],
   "source": [
    "print(f'Best alpha: {best_alpha}')\n",
    "print(f'Best lambda: {best_lambda}')\n",
    "print(f'Best accuracy: {best_accuracy}')"
   ]
  },
  {
   "cell_type": "code",
   "execution_count": 68,
   "metadata": {},
   "outputs": [
    {
     "name": "stdout",
     "output_type": "stream",
     "text": [
      "Accuracy for n=2: 0.9370904325032765. Lost legits: 3\n"
     ]
    }
   ],
   "source": [
    "# check n = 2, n = 3\n",
    "tr, lost_legits = model(1e-6, 2, 1e30)\n",
    "accuracy = tr/all_size\n",
    "print(f'Accuracy for n=2: {accuracy}. Lost legits: {len(lost_legits)}')"
   ]
  },
  {
   "cell_type": "code",
   "execution_count": 69,
   "metadata": {},
   "outputs": [
    {
     "name": "stdout",
     "output_type": "stream",
     "text": [
      "Accuracy for n=3: 0.9043250327653998. Lost legits: 1\n"
     ]
    }
   ],
   "source": [
    "tr, lost_legits = model(1e-6, 3, 1e30)\n",
    "accuracy = tr/all_size\n",
    "print(f'Accuracy for n=3: {accuracy}. Lost legits: {len(lost_legits)}')"
   ]
  },
  {
   "cell_type": "code",
   "execution_count": 97,
   "metadata": {
    "pycharm": {
     "is_executing": true,
     "name": "#%%\n"
    }
   },
   "outputs": [
    {
     "name": "stderr",
     "output_type": "stream",
     "text": [
      " 91%|█████████ | 50/55 [26:56<02:41, 32.34s/it]\n"
     ]
    }
   ],
   "source": [
    "ys = []\n",
    "xs = []\n",
    "for lambda_legit in tqdm(lambdas):\n",
    "    tr, _ = model(best_alpha, 1, lambda_legit)\n",
    "    accuracy = tr/all_size\n",
    "    xs.append(lambda_legit)\n",
    "    ys.append(accuracy)\n",
    "    if lambda_legit == best_lambda:\n",
    "        break\n",
    "    xs.append(lambda_legit)\n",
    "    ys.append(accuracy)"
   ]
  },
  {
   "cell_type": "code",
   "execution_count": 101,
   "metadata": {
    "pycharm": {
     "is_executing": true
    }
   },
   "outputs": [
    {
     "data": {
      "image/png": "[encoded data removed]",
      "text/plain": [
       "<Figure size 432x288 with 1 Axes>"
      ]
     },
     "metadata": {
      "needs_background": "light"
     },
     "output_type": "display_data"
    }
   ],
   "source": [
    "plt.xscale('log')\n",
    "plt.plot(xs, ys, 'b')\n",
    "plt.ylabel('Accuracy')\n",
    "plt.xlabel('Lambda Legit')\n",
    "plt.grid()\n",
    "plt.show()"
   ]
  },
  {
   "cell_type": "code",
   "execution_count": 139,
   "metadata": {
    "pycharm": {
     "is_executing": true,
     "name": "#%%\n"
    }
   },
   "outputs": [],
   "source": [
    "def predict2(stat: Stat, likelihood_probabilities, email: Email, lamda_legit, n: int):\n",
    "    lambdas = [0, 0]\n",
    "    lambdas[LEGIT_CLASS] = lambda_legit\n",
    "    lambdas[SPAM_CLASS] = lambda_spam\n",
    "    this_phrases = set(email.subject_n_grams(n) + email.body_n_grams(n))\n",
    "    num = [0] * 2\n",
    "    for cl in classes:\n",
    "        this_num = 0\n",
    "        this_num += math.log(lambdas[cl] * (EPS + stat.classes_num[cl] / n))\n",
    "        for phrase in stat.all_phrases.difference(this_phrases):\n",
    "            this_num += math.log(1 - (likelihood_probabilities[(phrase, cl)][0] / likelihood_probabilities[(phrase, cl)][1]))\n",
    "        for phrase in this_phrases.intersection(stat.all_phrases):\n",
    "            this_num += math.log(likelihood_probabilities[(phrase, cl)][0] / likelihood_probabilities[(phrase, cl)][1])\n",
    "        num[cl] = this_num\n",
    "    max_num = max(num)\n",
    "    snd = 0\n",
    "    for ln_pr in num:\n",
    "        snd += math.exp(ln_pr - max_num)\n",
    "    snd = math.log(snd) + max_num\n",
    "    spam_probability = math.exp(num[SPAM_CLASS] - snd)\n",
    "    legit_probability = math.exp(num[LEGIT_CLASS] - snd)\n",
    "    return legit_probability, spam_probability\n",
    "\n",
    "alpha = 1e-6\n",
    "lambda_legit = 1e50\n",
    "n = 1\n",
    "y_true = []\n",
    "y_target = []\n",
    "for test_index in range(len(parts)):\n",
    "    train_emails: List[Email] = []\n",
    "    for train_i in range(len(parts)):\n",
    "        if train_i == test_index:\n",
    "            continue\n",
    "        train_emails.extend(parts[train_i])\n",
    "    train_stat = train_data_to_local_stat(train_emails, n)\n",
    "    likelihood_probabilities = calculate_likelihood_probabilities(alpha, train_stat)\n",
    "    test_emails: List[Email] = []\n",
    "    test_emails.extend(parts[test_index])\n",
    "    for test_email in test_emails:\n",
    "        leg_prob, spam_prob = predict2(train_stat, likelihood_probabilities, test_email, lambda_legit, n)\n",
    "        if test_email.is_spam():\n",
    "            y_true.append(SPAM_CLASS)\n",
    "            y_target.append(leg_prob)\n",
    "        else:\n",
    "            y_true.append(LEGIT_CLASS)\n",
    "            y_target.append(leg_prob)\n",
    "            "
   ]
  },
  {
   "cell_type": "code",
   "execution_count": 152,
   "metadata": {},
   "outputs": [
    {
     "data": {
      "image/png": "[encoded data removed]",
      "text/plain": [
       "<Figure size 432x288 with 1 Axes>"
      ]
     },
     "metadata": {
      "needs_background": "light"
     },
     "output_type": "display_data"
    }
   ],
   "source": [
    "y_all = list(zip(y_true, y_target))\n",
    "y_all = sorted(y_all, key=lambda x: x[1], reverse=True)\n",
    "y_true, y_target = zip(*y_all)\n",
    "y_true = list(y_true)\n",
    "y_target = list(y_target)\n",
    "count_spam = 0\n",
    "count_legit = 0\n",
    "for ytr in y_true:\n",
    "    if ytr == SPAM_CLASS:\n",
    "        count_spam += 1\n",
    "    else:\n",
    "        count_legit += 1\n",
    "\n",
    "points_x = [0]\n",
    "points_y = [0]\n",
    "cur_x = 0\n",
    "cur_y = 0\n",
    "i = 0\n",
    "\n",
    "while i < len(y_true):\n",
    "    j = i\n",
    "    dy = 0\n",
    "    dx = 0\n",
    "    if y_true[j] == LEGIT_CLASS:\n",
    "        dy += 1\n",
    "    else:\n",
    "        dx += 1\n",
    "    j += 1\n",
    "    cur_x += dx\n",
    "    cur_y += dy\n",
    "    points_x.append(cur_x / count_spam)\n",
    "    points_y.append(cur_y / count_legit)\n",
    "    i += j - i\n",
    "\n",
    "plt.title('Receiver Operating Characteristic')\n",
    "plt.plot(points_x, points_y, 'b')\n",
    "plt.plot([0, 1], [0, 1],'r--')\n",
    "plt.xlim([0, 1.005])\n",
    "plt.ylim([0, 1.005])\n",
    "plt.ylabel('True Positive Rate')\n",
    "plt.xlabel('False Positive Rate')\n",
    "plt.show()"
   ]
  },
  {
   "cell_type": "code",
   "execution_count": null,
   "metadata": {},
   "outputs": [],
   "source": []
  },
  {
   "cell_type": "code",
   "execution_count": null,
   "metadata": {},
   "outputs": [],
   "source": []
  }
 ],
 "metadata": {
  "kernelspec": {
   "display_name": "Python 3",
   "language": "python",
   "name": "python3"
  },
  "language_info": {
   "codemirror_mode": {
    "name": "ipython",
    "version": 3
   },
   "file_extension": ".py",
   "mimetype": "text/x-python",
   "name": "python",
   "nbconvert_exporter": "python",
   "pygments_lexer": "ipython3",
   "version": "3.8.4"
  }
 },
 "nbformat": 4,
 "nbformat_minor": 4
}
