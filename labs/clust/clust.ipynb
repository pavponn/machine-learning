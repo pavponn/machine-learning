{
 "cells": [
  {
   "cell_type": "code",
   "execution_count": 1,
   "metadata": {},
   "outputs": [],
   "source": [
    "import itertools\n",
    "import matplotlib.pyplot as plt\n",
    "import pandas as pd\n",
    "import math\n",
    "import numpy as np\n",
    "from tqdm import tqdm\n",
    "from sklearn.decomposition import PCA"
   ]
  },
  {
   "cell_type": "code",
   "execution_count": 2,
   "metadata": {},
   "outputs": [
    {
     "data": {
      "text/html": [
       "<div>\n",
       "<style scoped>\n",
       "    .dataframe tbody tr th:only-of-type {\n",
       "        vertical-align: middle;\n",
       "    }\n",
       "\n",
       "    .dataframe tbody tr th {\n",
       "        vertical-align: top;\n",
       "    }\n",
       "\n",
       "    .dataframe thead th {\n",
       "        text-align: right;\n",
       "    }\n",
       "</style>\n",
       "<table border=\"1\" class=\"dataframe\">\n",
       "  <thead>\n",
       "    <tr style=\"text-align: right;\">\n",
       "      <th></th>\n",
       "      <th>V1</th>\n",
       "      <th>V2</th>\n",
       "      <th>V3</th>\n",
       "      <th>V4</th>\n",
       "      <th>V5</th>\n",
       "      <th>V6</th>\n",
       "      <th>V7</th>\n",
       "      <th>Class</th>\n",
       "    </tr>\n",
       "  </thead>\n",
       "  <tbody>\n",
       "    <tr>\n",
       "      <th>0</th>\n",
       "      <td>15.26</td>\n",
       "      <td>14.84</td>\n",
       "      <td>0.8710</td>\n",
       "      <td>5.763</td>\n",
       "      <td>3.312</td>\n",
       "      <td>2.221</td>\n",
       "      <td>5.220</td>\n",
       "      <td>1</td>\n",
       "    </tr>\n",
       "    <tr>\n",
       "      <th>1</th>\n",
       "      <td>14.88</td>\n",
       "      <td>14.57</td>\n",
       "      <td>0.8811</td>\n",
       "      <td>5.554</td>\n",
       "      <td>3.333</td>\n",
       "      <td>1.018</td>\n",
       "      <td>4.956</td>\n",
       "      <td>1</td>\n",
       "    </tr>\n",
       "    <tr>\n",
       "      <th>2</th>\n",
       "      <td>14.29</td>\n",
       "      <td>14.09</td>\n",
       "      <td>0.9050</td>\n",
       "      <td>5.291</td>\n",
       "      <td>3.337</td>\n",
       "      <td>2.699</td>\n",
       "      <td>4.825</td>\n",
       "      <td>1</td>\n",
       "    </tr>\n",
       "    <tr>\n",
       "      <th>3</th>\n",
       "      <td>13.84</td>\n",
       "      <td>13.94</td>\n",
       "      <td>0.8955</td>\n",
       "      <td>5.324</td>\n",
       "      <td>3.379</td>\n",
       "      <td>2.259</td>\n",
       "      <td>4.805</td>\n",
       "      <td>1</td>\n",
       "    </tr>\n",
       "    <tr>\n",
       "      <th>4</th>\n",
       "      <td>16.14</td>\n",
       "      <td>14.99</td>\n",
       "      <td>0.9034</td>\n",
       "      <td>5.658</td>\n",
       "      <td>3.562</td>\n",
       "      <td>1.355</td>\n",
       "      <td>5.175</td>\n",
       "      <td>1</td>\n",
       "    </tr>\n",
       "    <tr>\n",
       "      <th>...</th>\n",
       "      <td>...</td>\n",
       "      <td>...</td>\n",
       "      <td>...</td>\n",
       "      <td>...</td>\n",
       "      <td>...</td>\n",
       "      <td>...</td>\n",
       "      <td>...</td>\n",
       "      <td>...</td>\n",
       "    </tr>\n",
       "    <tr>\n",
       "      <th>205</th>\n",
       "      <td>12.19</td>\n",
       "      <td>13.20</td>\n",
       "      <td>0.8783</td>\n",
       "      <td>5.137</td>\n",
       "      <td>2.981</td>\n",
       "      <td>3.631</td>\n",
       "      <td>4.870</td>\n",
       "      <td>3</td>\n",
       "    </tr>\n",
       "    <tr>\n",
       "      <th>206</th>\n",
       "      <td>11.23</td>\n",
       "      <td>12.88</td>\n",
       "      <td>0.8511</td>\n",
       "      <td>5.140</td>\n",
       "      <td>2.795</td>\n",
       "      <td>4.325</td>\n",
       "      <td>5.003</td>\n",
       "      <td>3</td>\n",
       "    </tr>\n",
       "    <tr>\n",
       "      <th>207</th>\n",
       "      <td>13.20</td>\n",
       "      <td>13.66</td>\n",
       "      <td>0.8883</td>\n",
       "      <td>5.236</td>\n",
       "      <td>3.232</td>\n",
       "      <td>8.315</td>\n",
       "      <td>5.056</td>\n",
       "      <td>3</td>\n",
       "    </tr>\n",
       "    <tr>\n",
       "      <th>208</th>\n",
       "      <td>11.84</td>\n",
       "      <td>13.21</td>\n",
       "      <td>0.8521</td>\n",
       "      <td>5.175</td>\n",
       "      <td>2.836</td>\n",
       "      <td>3.598</td>\n",
       "      <td>5.044</td>\n",
       "      <td>3</td>\n",
       "    </tr>\n",
       "    <tr>\n",
       "      <th>209</th>\n",
       "      <td>12.30</td>\n",
       "      <td>13.34</td>\n",
       "      <td>0.8684</td>\n",
       "      <td>5.243</td>\n",
       "      <td>2.974</td>\n",
       "      <td>5.637</td>\n",
       "      <td>5.063</td>\n",
       "      <td>3</td>\n",
       "    </tr>\n",
       "  </tbody>\n",
       "</table>\n",
       "<p>210 rows × 8 columns</p>\n",
       "</div>"
      ],
      "text/plain": [
       "        V1     V2      V3     V4     V5     V6     V7  Class\n",
       "0    15.26  14.84  0.8710  5.763  3.312  2.221  5.220      1\n",
       "1    14.88  14.57  0.8811  5.554  3.333  1.018  4.956      1\n",
       "2    14.29  14.09  0.9050  5.291  3.337  2.699  4.825      1\n",
       "3    13.84  13.94  0.8955  5.324  3.379  2.259  4.805      1\n",
       "4    16.14  14.99  0.9034  5.658  3.562  1.355  5.175      1\n",
       "..     ...    ...     ...    ...    ...    ...    ...    ...\n",
       "205  12.19  13.20  0.8783  5.137  2.981  3.631  4.870      3\n",
       "206  11.23  12.88  0.8511  5.140  2.795  4.325  5.003      3\n",
       "207  13.20  13.66  0.8883  5.236  3.232  8.315  5.056      3\n",
       "208  11.84  13.21  0.8521  5.175  2.836  3.598  5.044      3\n",
       "209  12.30  13.34  0.8684  5.243  2.974  5.637  5.063      3\n",
       "\n",
       "[210 rows x 8 columns]"
      ]
     },
     "execution_count": 2,
     "metadata": {},
     "output_type": "execute_result"
    }
   ],
   "source": [
    "# The data describe the problem of high energy (higher than 10^4 J) \n",
    "# seismic bumps forecasting in a coal mine. \n",
    "# Data come from two of longwalls located in a Polish coal mine.\n",
    "dataset = pd.read_csv('seismic-bumps.csv')\n",
    "dataset"
   ]
  },
  {
   "cell_type": "code",
   "execution_count": 3,
   "metadata": {},
   "outputs": [],
   "source": [
    "dataset = dataset.sample(frac = 1) \n",
    "\n",
    "X = dataset[dataset.columns.difference(['Class'])]\n",
    "y = pd.DataFrame(dataset['Class'])"
   ]
  },
  {
   "cell_type": "code",
   "execution_count": 4,
   "metadata": {},
   "outputs": [
    {
     "data": {
      "text/html": [
       "<div>\n",
       "<style scoped>\n",
       "    .dataframe tbody tr th:only-of-type {\n",
       "        vertical-align: middle;\n",
       "    }\n",
       "\n",
       "    .dataframe tbody tr th {\n",
       "        vertical-align: top;\n",
       "    }\n",
       "\n",
       "    .dataframe thead th {\n",
       "        text-align: right;\n",
       "    }\n",
       "</style>\n",
       "<table border=\"1\" class=\"dataframe\">\n",
       "  <thead>\n",
       "    <tr style=\"text-align: right;\">\n",
       "      <th></th>\n",
       "      <th>V1</th>\n",
       "      <th>V2</th>\n",
       "      <th>V3</th>\n",
       "      <th>V4</th>\n",
       "      <th>V5</th>\n",
       "      <th>V6</th>\n",
       "      <th>V7</th>\n",
       "      <th>Class</th>\n",
       "    </tr>\n",
       "  </thead>\n",
       "  <tbody>\n",
       "    <tr>\n",
       "      <th>188</th>\n",
       "      <td>11.23</td>\n",
       "      <td>12.82</td>\n",
       "      <td>0.8594</td>\n",
       "      <td>5.089</td>\n",
       "      <td>2.821</td>\n",
       "      <td>7.524</td>\n",
       "      <td>4.957</td>\n",
       "      <td>3</td>\n",
       "    </tr>\n",
       "    <tr>\n",
       "      <th>127</th>\n",
       "      <td>17.98</td>\n",
       "      <td>15.85</td>\n",
       "      <td>0.8993</td>\n",
       "      <td>5.979</td>\n",
       "      <td>3.687</td>\n",
       "      <td>2.257</td>\n",
       "      <td>5.919</td>\n",
       "      <td>2</td>\n",
       "    </tr>\n",
       "    <tr>\n",
       "      <th>191</th>\n",
       "      <td>11.27</td>\n",
       "      <td>12.86</td>\n",
       "      <td>0.8563</td>\n",
       "      <td>5.091</td>\n",
       "      <td>2.804</td>\n",
       "      <td>3.985</td>\n",
       "      <td>5.001</td>\n",
       "      <td>3</td>\n",
       "    </tr>\n",
       "    <tr>\n",
       "      <th>51</th>\n",
       "      <td>15.78</td>\n",
       "      <td>14.91</td>\n",
       "      <td>0.8923</td>\n",
       "      <td>5.674</td>\n",
       "      <td>3.434</td>\n",
       "      <td>5.593</td>\n",
       "      <td>5.136</td>\n",
       "      <td>1</td>\n",
       "    </tr>\n",
       "    <tr>\n",
       "      <th>66</th>\n",
       "      <td>14.34</td>\n",
       "      <td>14.37</td>\n",
       "      <td>0.8726</td>\n",
       "      <td>5.630</td>\n",
       "      <td>3.190</td>\n",
       "      <td>1.313</td>\n",
       "      <td>5.150</td>\n",
       "      <td>1</td>\n",
       "    </tr>\n",
       "  </tbody>\n",
       "</table>\n",
       "</div>"
      ],
      "text/plain": [
       "        V1     V2      V3     V4     V5     V6     V7  Class\n",
       "188  11.23  12.82  0.8594  5.089  2.821  7.524  4.957      3\n",
       "127  17.98  15.85  0.8993  5.979  3.687  2.257  5.919      2\n",
       "191  11.27  12.86  0.8563  5.091  2.804  3.985  5.001      3\n",
       "51   15.78  14.91  0.8923  5.674  3.434  5.593  5.136      1\n",
       "66   14.34  14.37  0.8726  5.630  3.190  1.313  5.150      1"
      ]
     },
     "execution_count": 4,
     "metadata": {},
     "output_type": "execute_result"
    }
   ],
   "source": [
    "dataset.head()"
   ]
  },
  {
   "cell_type": "code",
   "execution_count": 5,
   "metadata": {},
   "outputs": [
    {
     "data": {
      "text/html": [
       "<div>\n",
       "<style scoped>\n",
       "    .dataframe tbody tr th:only-of-type {\n",
       "        vertical-align: middle;\n",
       "    }\n",
       "\n",
       "    .dataframe tbody tr th {\n",
       "        vertical-align: top;\n",
       "    }\n",
       "\n",
       "    .dataframe thead th {\n",
       "        text-align: right;\n",
       "    }\n",
       "</style>\n",
       "<table border=\"1\" class=\"dataframe\">\n",
       "  <thead>\n",
       "    <tr style=\"text-align: right;\">\n",
       "      <th></th>\n",
       "      <th>V1</th>\n",
       "      <th>V2</th>\n",
       "      <th>V3</th>\n",
       "      <th>V4</th>\n",
       "      <th>V5</th>\n",
       "      <th>V6</th>\n",
       "      <th>V7</th>\n",
       "    </tr>\n",
       "  </thead>\n",
       "  <tbody>\n",
       "    <tr>\n",
       "      <th>188</th>\n",
       "      <td>11.23</td>\n",
       "      <td>12.82</td>\n",
       "      <td>0.8594</td>\n",
       "      <td>5.089</td>\n",
       "      <td>2.821</td>\n",
       "      <td>7.524</td>\n",
       "      <td>4.957</td>\n",
       "    </tr>\n",
       "    <tr>\n",
       "      <th>127</th>\n",
       "      <td>17.98</td>\n",
       "      <td>15.85</td>\n",
       "      <td>0.8993</td>\n",
       "      <td>5.979</td>\n",
       "      <td>3.687</td>\n",
       "      <td>2.257</td>\n",
       "      <td>5.919</td>\n",
       "    </tr>\n",
       "    <tr>\n",
       "      <th>191</th>\n",
       "      <td>11.27</td>\n",
       "      <td>12.86</td>\n",
       "      <td>0.8563</td>\n",
       "      <td>5.091</td>\n",
       "      <td>2.804</td>\n",
       "      <td>3.985</td>\n",
       "      <td>5.001</td>\n",
       "    </tr>\n",
       "    <tr>\n",
       "      <th>51</th>\n",
       "      <td>15.78</td>\n",
       "      <td>14.91</td>\n",
       "      <td>0.8923</td>\n",
       "      <td>5.674</td>\n",
       "      <td>3.434</td>\n",
       "      <td>5.593</td>\n",
       "      <td>5.136</td>\n",
       "    </tr>\n",
       "    <tr>\n",
       "      <th>66</th>\n",
       "      <td>14.34</td>\n",
       "      <td>14.37</td>\n",
       "      <td>0.8726</td>\n",
       "      <td>5.630</td>\n",
       "      <td>3.190</td>\n",
       "      <td>1.313</td>\n",
       "      <td>5.150</td>\n",
       "    </tr>\n",
       "  </tbody>\n",
       "</table>\n",
       "</div>"
      ],
      "text/plain": [
       "        V1     V2      V3     V4     V5     V6     V7\n",
       "188  11.23  12.82  0.8594  5.089  2.821  7.524  4.957\n",
       "127  17.98  15.85  0.8993  5.979  3.687  2.257  5.919\n",
       "191  11.27  12.86  0.8563  5.091  2.804  3.985  5.001\n",
       "51   15.78  14.91  0.8923  5.674  3.434  5.593  5.136\n",
       "66   14.34  14.37  0.8726  5.630  3.190  1.313  5.150"
      ]
     },
     "execution_count": 5,
     "metadata": {},
     "output_type": "execute_result"
    }
   ],
   "source": [
    "X.head()"
   ]
  },
  {
   "cell_type": "code",
   "execution_count": 6,
   "metadata": {},
   "outputs": [
    {
     "data": {
      "text/html": [
       "<div>\n",
       "<style scoped>\n",
       "    .dataframe tbody tr th:only-of-type {\n",
       "        vertical-align: middle;\n",
       "    }\n",
       "\n",
       "    .dataframe tbody tr th {\n",
       "        vertical-align: top;\n",
       "    }\n",
       "\n",
       "    .dataframe thead th {\n",
       "        text-align: right;\n",
       "    }\n",
       "</style>\n",
       "<table border=\"1\" class=\"dataframe\">\n",
       "  <thead>\n",
       "    <tr style=\"text-align: right;\">\n",
       "      <th></th>\n",
       "      <th>Class</th>\n",
       "    </tr>\n",
       "  </thead>\n",
       "  <tbody>\n",
       "    <tr>\n",
       "      <th>188</th>\n",
       "      <td>3</td>\n",
       "    </tr>\n",
       "    <tr>\n",
       "      <th>127</th>\n",
       "      <td>2</td>\n",
       "    </tr>\n",
       "    <tr>\n",
       "      <th>191</th>\n",
       "      <td>3</td>\n",
       "    </tr>\n",
       "    <tr>\n",
       "      <th>51</th>\n",
       "      <td>1</td>\n",
       "    </tr>\n",
       "    <tr>\n",
       "      <th>66</th>\n",
       "      <td>1</td>\n",
       "    </tr>\n",
       "  </tbody>\n",
       "</table>\n",
       "</div>"
      ],
      "text/plain": [
       "     Class\n",
       "188      3\n",
       "127      2\n",
       "191      3\n",
       "51       1\n",
       "66       1"
      ]
     },
     "execution_count": 6,
     "metadata": {},
     "output_type": "execute_result"
    }
   ],
   "source": [
    "y.head()"
   ]
  },
  {
   "cell_type": "code",
   "execution_count": 7,
   "metadata": {},
   "outputs": [],
   "source": [
    "X_list = X.values.tolist()\n",
    "y_list = list(itertools.chain.from_iterable(y.values.tolist()))"
   ]
  },
  {
   "cell_type": "code",
   "execution_count": 8,
   "metadata": {},
   "outputs": [
    {
     "data": {
      "text/plain": [
       "[[11.23, 12.82, 0.8594, 5.0889999999999995, 2.821, 7.524, 4.957],\n",
       " [17.98, 15.85, 0.8993, 5.979, 3.687, 2.2569999999999997, 5.919],\n",
       " [11.27, 12.86, 0.8563, 5.091, 2.804, 3.985, 5.001],\n",
       " [15.78, 14.91, 0.8923, 5.6739999999999995, 3.4339999999999997, 5.593, 5.136],\n",
       " [14.34, 14.37, 0.8726, 5.63, 3.19, 1.3130000000000002, 5.15]]"
      ]
     },
     "execution_count": 8,
     "metadata": {},
     "output_type": "execute_result"
    }
   ],
   "source": [
    "X_list[0:5]"
   ]
  },
  {
   "cell_type": "code",
   "execution_count": 9,
   "metadata": {},
   "outputs": [
    {
     "data": {
      "text/plain": [
       "[3, 2, 3, 1, 1]"
      ]
     },
     "execution_count": 9,
     "metadata": {},
     "output_type": "execute_result"
    }
   ],
   "source": [
    "y_list[0:5]"
   ]
  },
  {
   "cell_type": "code",
   "execution_count": 10,
   "metadata": {},
   "outputs": [],
   "source": [
    "CLASSES_NUM = 3"
   ]
  },
  {
   "cell_type": "code",
   "execution_count": 11,
   "metadata": {},
   "outputs": [],
   "source": [
    "def sum_mean_vectors(vectors):\n",
    "    L = len(vectors)\n",
    "    M = len(vectors[0])\n",
    "    \n",
    "    assert(L != 0)\n",
    "    assert(M != 0)\n",
    "    \n",
    "    res_vector = [0] * M\n",
    "    \n",
    "    for vec in vectors:\n",
    "        assert(len(vec) == M)\n",
    "        for i in range(M):\n",
    "            res_vector[i] += vec[i]\n",
    "    \n",
    "    for i in range(M):\n",
    "        res_vector[i] = res_vector[i] / L\n",
    "    return res_vector\n",
    "        \n",
    "    \n",
    "def euclidean_distance(x, y):\n",
    "    assert(len(x) == len(y))\n",
    "    distance = 0\n",
    "    \n",
    "    for i in range(len(x)):\n",
    "        distance += (x[i] - y[i]) ** 2\n",
    "    distance = math.sqrt(distance)\n",
    "    \n",
    "    return distance\n",
    "        \n",
    "\n",
    "# Ward's distance, take two clusters as arguments\n",
    "def wards_distance(w, s):\n",
    "    coef = len(s) * len(w) / (len(s) + len(w))\n",
    "    s_vector = sum_mean_vectors(s)\n",
    "    w_vector = sum_mean_vectors(w)\n",
    "    dist = euclidean_distance(w_vector, s_vector)\n",
    "    dist_square = dist ** 2\n",
    "    return coef * dist_square\n",
    "    "
   ]
  },
  {
   "cell_type": "code",
   "execution_count": 12,
   "metadata": {},
   "outputs": [],
   "source": [
    "def find_two_closest(clusters, X):\n",
    "    min_i = -1\n",
    "    min_j = -1\n",
    "    min_dist = 1e40\n",
    "    \n",
    "    for i in range(len(clusters)):\n",
    "        for j in range(i + 1, len(clusters)):\n",
    "            cluster1 = clusters[i]\n",
    "            cluster2 = clusters[j]\n",
    "            s = []\n",
    "            w = []\n",
    "            for idx in cluster1:\n",
    "                s.append(X[idx])\n",
    "            for idx in cluster2:\n",
    "                w.append(X[idx])\n",
    "            dist = wards_distance(w, s)\n",
    "            if dist < min_dist:\n",
    "                min_dist = dist\n",
    "                min_i = i\n",
    "                min_j = j\n",
    "    return min_i, min_j\n",
    "            \n",
    "            \n",
    "def lance_williams_algorithm(X, k):\n",
    "    l = len(X)\n",
    "    clusters_init = [[i] for i in range(l)]\n",
    "    clusters_sets = []\n",
    "    clusters_sets.append(clusters_init)\n",
    "    for t in tqdm(range(1, l)):\n",
    "        fst_index, snd_index = find_two_closest(clusters_sets[t - 1], X)\n",
    "        assert(fst_index != -1)\n",
    "        assert(snd_index != -1)\n",
    "        clusters = []\n",
    "        for i, clust in enumerate(clusters_sets[t - 1]):\n",
    "            if i != fst_index and i != snd_index:\n",
    "                clusters.append(clust.copy())\n",
    "        clust1 = clusters_sets[t - 1][fst_index]\n",
    "        clust2 = clusters_sets[t - 1][snd_index]\n",
    "        union_clust = clust1.copy() + clust2.copy()\n",
    "        clusters.append(union_clust)\n",
    "        clusters_sets.append(clusters)\n",
    "        \n",
    "        if len(clusters) == k:\n",
    "            return clusters\n",
    "    \n",
    "    return clusters_sets[-1]"
   ]
  },
  {
   "cell_type": "code",
   "execution_count": 13,
   "metadata": {},
   "outputs": [],
   "source": [
    "def vector_diff(x, y):\n",
    "    assert(len(x) == len(y))\n",
    "    res = []\n",
    "    for i in range(len(x)):\n",
    "        res.append(x[i] - y[i])\n",
    "    return res\n",
    "\n",
    "def vector_norm(vec):\n",
    "    return euclidean_distance(vec, [0] * len(vec))\n",
    "\n",
    "def inter_cluster_distance(cluster1, cluster2):\n",
    "    min_norm = 1e40\n",
    "    for vec_1 in cluster1:\n",
    "        for vec_2 in cluster2:\n",
    "            diff = vector_diff(vec_1, vec_2)\n",
    "            norm = vector_norm(diff)\n",
    "            if norm < min_norm:\n",
    "                min_norm = norm\n",
    "    return min_norm\n",
    "\n",
    "def cluster_diameter(cluster):\n",
    "    max_norm = 0\n",
    "    for vec_1 in cluster:\n",
    "        for vec_2 in cluster:\n",
    "            diff = vector_diff(vec_1, vec_2)\n",
    "            norm = vector_norm(diff)\n",
    "            if norm > max_norm:\n",
    "                max_norm = norm\n",
    "    return max_norm\n",
    "\n",
    "\n",
    "def dunn_index(X, clusters):\n",
    "    min_up = 1e40\n",
    "    for i in range(len(clusters)):\n",
    "        for j in range(i + 1, len(clusters)):\n",
    "            cluster_objs_1 = [X[k] for k in clusters[i]]\n",
    "            cluster_objs_2 = [X[k] for k in clusters[j]]\n",
    "            dist = inter_cluster_distance(cluster_objs_1, cluster_objs_2)\n",
    "            if dist < min_up:\n",
    "                min_up = dist\n",
    "    max_down = 0\n",
    "    for cluster in clusters:\n",
    "        cluster_objs = [X[k] for k in cluster]\n",
    "        dim = cluster_diameter(cluster_objs)\n",
    "        if dim > max_down:\n",
    "            max_down = dim\n",
    "\n",
    "    return min_up / max_down"
   ]
  },
  {
   "cell_type": "code",
   "execution_count": 14,
   "metadata": {},
   "outputs": [],
   "source": [
    "def f_score(labels, clusters):\n",
    "    n = np.array([[0] * len(clusters) for _ in range(len(labels))])\n",
    "    for j in range(len(clusters)):\n",
    "        for i in clusters[j]:\n",
    "            n[labels[i]][j] += 1\n",
    "    \n",
    "    p = n / np.sum(n)\n",
    "    \n",
    "    result = 0\n",
    "    for j in range(len(clusters)):\n",
    "        row_sum = np.sum(p, axis=1)\n",
    "        col_sum = np.sum(p, axis=0)\n",
    "        if np.isclose(col_sum[j], 0):\n",
    "            continue\n",
    "        result += col_sum[j] * np.max([(2 * p[i][j] ** 2 / (row_sum[i] * col_sum[j])) \n",
    "                                       / (p[i][j] / row_sum[i] + p[i][j] / col_sum[j]) \n",
    "                                       for i in range(len(labels)) \n",
    "                                       if not np.isclose(row_sum[i], 0) and not np.isclose(p[i][j], 0)])\n",
    "        \n",
    "    return result"
   ]
  },
  {
   "cell_type": "code",
   "execution_count": 15,
   "metadata": {},
   "outputs": [],
   "source": [
    "def label_to_color(label):\n",
    "    if label == 1:\n",
    "        return 'y'\n",
    "    elif label == 2:\n",
    "        return 'b'\n",
    "    elif label == 3:\n",
    "        return 'g'\n",
    "    else:\n",
    "        return 'k'"
   ]
  },
  {
   "cell_type": "code",
   "execution_count": 16,
   "metadata": {},
   "outputs": [],
   "source": [
    "def draw_clusters(X, clusters):\n",
    "    for i, cluster in enumerate(clusters):\n",
    "        X_from_cluster = [X[i] for i in cluster]\n",
    "        col = label_to_color(i + 1)\n",
    "        plt.scatter([x[0] for x in X_from_cluster], [x[1] for x in X_from_cluster],s=10, color=col)\n",
    "    plt.title(\"Result clusters\")\n",
    "    plt.show()"
   ]
  },
  {
   "cell_type": "code",
   "execution_count": 17,
   "metadata": {},
   "outputs": [],
   "source": [
    "def draw_real_classes(X, y):\n",
    "    assert(len(X) == len(y))\n",
    "    for i in range(len(X)):\n",
    "        col = label_to_color(y[i])\n",
    "        plt.scatter([X[i][0]],[X[i][1]], color=col,s=10)\n",
    "    plt.title(\"Real classes\")\n",
    "    plt.show()"
   ]
  },
  {
   "cell_type": "code",
   "execution_count": 18,
   "metadata": {},
   "outputs": [
    {
     "name": "stderr",
     "output_type": "stream",
     "text": [
      " 99%|█████████▊| 206/209 [00:16<00:00, 12.15it/s]\n"
     ]
    }
   ],
   "source": [
    "clusters = lance_williams_algorithm(X_list, 3)"
   ]
  },
  {
   "cell_type": "code",
   "execution_count": 19,
   "metadata": {},
   "outputs": [],
   "source": [
    "pca = PCA(n_components=2)\n",
    "transformed_X = pca.fit_transform(X).tolist()\n"
   ]
  },
  {
   "cell_type": "code",
   "execution_count": 20,
   "metadata": {},
   "outputs": [
    {
     "data": {
      "image/png": "[encoded data removed]",
      "text/plain": [
       "<Figure size 432x288 with 1 Axes>"
      ]
     },
     "metadata": {
      "needs_background": "light"
     },
     "output_type": "display_data"
    }
   ],
   "source": [
    "draw_clusters(transformed_X, clusters)"
   ]
  },
  {
   "cell_type": "code",
   "execution_count": 21,
   "metadata": {},
   "outputs": [
    {
     "data": {
      "image/png": "[encoded data removed]",
      "text/plain": [
       "<Figure size 432x288 with 1 Axes>"
      ]
     },
     "metadata": {
      "needs_background": "light"
     },
     "output_type": "display_data"
    }
   ],
   "source": [
    "draw_real_classes(transformed_X, y_list)"
   ]
  },
  {
   "cell_type": "code",
   "execution_count": null,
   "metadata": {},
   "outputs": [
    {
     "name": "stderr",
     "output_type": "stream",
     "text": [
      " 99%|█████████▉| 207/209 [00:16<00:00, 12.56it/s]\n",
      " 99%|█████████▊| 206/209 [00:16<00:00, 12.47it/s]\n",
      " 98%|█████████▊| 205/209 [00:16<00:00, 12.55it/s]\n",
      " 98%|█████████▊| 204/209 [00:16<00:00, 12.50it/s]\n",
      " 43%|████▎     | 89/209 [00:12<00:11, 10.39it/s]"
     ]
    }
   ],
   "source": [
    "f_scores = []\n",
    "dunn_indexes = []\n",
    "ks = list(range(2, 7))\n",
    "for k in ks:\n",
    "    clusters = lance_williams_algorithm(X_list, k)\n",
    "    dunn = dunn_index(X_list, clusters)\n",
    "    fscore = f_score(y_list, clusters)\n",
    "    dunn_indexes.append(dunn)\n",
    "    f_scores.append(fscore)    "
   ]
  },
  {
   "cell_type": "code",
   "execution_count": null,
   "metadata": {},
   "outputs": [],
   "source": [
    "plt.plot(ks, f_scores)\n",
    "plt.xlabel('Clusters count')\n",
    "plt.ylabel('F-score')\n",
    "plt.show()"
   ]
  },
  {
   "cell_type": "code",
   "execution_count": null,
   "metadata": {},
   "outputs": [],
   "source": [
    "plt.plot(ks, dunn_indexes)\n",
    "plt.xlabel('Clusters count')\n",
    "plt.ylabel('Dunn Index')\n",
    "plt.show()"
   ]
  },
  {
   "cell_type": "code",
   "execution_count": null,
   "metadata": {},
   "outputs": [],
   "source": []
  }
 ],
 "metadata": {
  "kernelspec": {
   "display_name": "Python 3",
   "language": "python",
   "name": "python3"
  },
  "language_info": {
   "codemirror_mode": {
    "name": "ipython",
    "version": 3
   },
   "file_extension": ".py",
   "mimetype": "text/x-python",
   "name": "python",
   "nbconvert_exporter": "python",
   "pygments_lexer": "ipython3",
   "version": "3.8.6"
  }
 },
 "nbformat": 4,
 "nbformat_minor": 4
}
