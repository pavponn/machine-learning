{
 "cells": [
  {
   "cell_type": "code",
   "execution_count": 1,
   "metadata": {
    "scrolled": true
   },
   "outputs": [],
   "source": [
    "from typing import Tuple, List\n",
    "\n",
    "import pandas as pd\n",
    "import numpy as np\n",
    "import random\n",
    "import helper as h\n",
    "import matplotlib.pyplot as plt\n",
    "import fscore as f\n",
    "from tqdm import tqdm"
   ]
  },
  {
   "cell_type": "code",
   "execution_count": 2,
   "metadata": {},
   "outputs": [],
   "source": [
    "filename = 'ecoli.csv'\n",
    "loaded_dataset = pd.read_csv(filename)"
   ]
  },
  {
   "cell_type": "code",
   "execution_count": 3,
   "metadata": {},
   "outputs": [
    {
     "data": {
      "text/html": [
       "<div>\n",
       "<style scoped>\n",
       "    .dataframe tbody tr th:only-of-type {\n",
       "        vertical-align: middle;\n",
       "    }\n",
       "\n",
       "    .dataframe tbody tr th {\n",
       "        vertical-align: top;\n",
       "    }\n",
       "\n",
       "    .dataframe thead th {\n",
       "        text-align: right;\n",
       "    }\n",
       "</style>\n",
       "<table border=\"1\" class=\"dataframe\">\n",
       "  <thead>\n",
       "    <tr style=\"text-align: right;\">\n",
       "      <th></th>\n",
       "      <th>mcg</th>\n",
       "      <th>gvh</th>\n",
       "      <th>lip</th>\n",
       "      <th>chg</th>\n",
       "      <th>aac</th>\n",
       "      <th>alm1</th>\n",
       "      <th>alm2</th>\n",
       "      <th>class</th>\n",
       "    </tr>\n",
       "  </thead>\n",
       "  <tbody>\n",
       "    <tr>\n",
       "      <th>0</th>\n",
       "      <td>0.49</td>\n",
       "      <td>0.29</td>\n",
       "      <td>0.48</td>\n",
       "      <td>0.5</td>\n",
       "      <td>0.56</td>\n",
       "      <td>0.24</td>\n",
       "      <td>0.35</td>\n",
       "      <td>0</td>\n",
       "    </tr>\n",
       "    <tr>\n",
       "      <th>1</th>\n",
       "      <td>0.07</td>\n",
       "      <td>0.40</td>\n",
       "      <td>0.48</td>\n",
       "      <td>0.5</td>\n",
       "      <td>0.54</td>\n",
       "      <td>0.35</td>\n",
       "      <td>0.44</td>\n",
       "      <td>0</td>\n",
       "    </tr>\n",
       "    <tr>\n",
       "      <th>2</th>\n",
       "      <td>0.56</td>\n",
       "      <td>0.40</td>\n",
       "      <td>0.48</td>\n",
       "      <td>0.5</td>\n",
       "      <td>0.49</td>\n",
       "      <td>0.37</td>\n",
       "      <td>0.46</td>\n",
       "      <td>0</td>\n",
       "    </tr>\n",
       "    <tr>\n",
       "      <th>3</th>\n",
       "      <td>0.59</td>\n",
       "      <td>0.49</td>\n",
       "      <td>0.48</td>\n",
       "      <td>0.5</td>\n",
       "      <td>0.52</td>\n",
       "      <td>0.45</td>\n",
       "      <td>0.36</td>\n",
       "      <td>0</td>\n",
       "    </tr>\n",
       "    <tr>\n",
       "      <th>4</th>\n",
       "      <td>0.23</td>\n",
       "      <td>0.32</td>\n",
       "      <td>0.48</td>\n",
       "      <td>0.5</td>\n",
       "      <td>0.55</td>\n",
       "      <td>0.25</td>\n",
       "      <td>0.35</td>\n",
       "      <td>0</td>\n",
       "    </tr>\n",
       "    <tr>\n",
       "      <th>...</th>\n",
       "      <td>...</td>\n",
       "      <td>...</td>\n",
       "      <td>...</td>\n",
       "      <td>...</td>\n",
       "      <td>...</td>\n",
       "      <td>...</td>\n",
       "      <td>...</td>\n",
       "      <td>...</td>\n",
       "    </tr>\n",
       "    <tr>\n",
       "      <th>322</th>\n",
       "      <td>0.74</td>\n",
       "      <td>0.56</td>\n",
       "      <td>0.48</td>\n",
       "      <td>0.5</td>\n",
       "      <td>0.47</td>\n",
       "      <td>0.68</td>\n",
       "      <td>0.30</td>\n",
       "      <td>7</td>\n",
       "    </tr>\n",
       "    <tr>\n",
       "      <th>323</th>\n",
       "      <td>0.71</td>\n",
       "      <td>0.57</td>\n",
       "      <td>0.48</td>\n",
       "      <td>0.5</td>\n",
       "      <td>0.48</td>\n",
       "      <td>0.35</td>\n",
       "      <td>0.32</td>\n",
       "      <td>7</td>\n",
       "    </tr>\n",
       "    <tr>\n",
       "      <th>324</th>\n",
       "      <td>0.61</td>\n",
       "      <td>0.60</td>\n",
       "      <td>0.48</td>\n",
       "      <td>0.5</td>\n",
       "      <td>0.44</td>\n",
       "      <td>0.39</td>\n",
       "      <td>0.38</td>\n",
       "      <td>7</td>\n",
       "    </tr>\n",
       "    <tr>\n",
       "      <th>325</th>\n",
       "      <td>0.59</td>\n",
       "      <td>0.61</td>\n",
       "      <td>0.48</td>\n",
       "      <td>0.5</td>\n",
       "      <td>0.42</td>\n",
       "      <td>0.42</td>\n",
       "      <td>0.37</td>\n",
       "      <td>7</td>\n",
       "    </tr>\n",
       "    <tr>\n",
       "      <th>326</th>\n",
       "      <td>0.74</td>\n",
       "      <td>0.74</td>\n",
       "      <td>0.48</td>\n",
       "      <td>0.5</td>\n",
       "      <td>0.31</td>\n",
       "      <td>0.53</td>\n",
       "      <td>0.52</td>\n",
       "      <td>7</td>\n",
       "    </tr>\n",
       "  </tbody>\n",
       "</table>\n",
       "<p>327 rows × 8 columns</p>\n",
       "</div>"
      ],
      "text/plain": [
       "      mcg   gvh   lip  chg   aac  alm1  alm2  class\n",
       "0    0.49  0.29  0.48  0.5  0.56  0.24  0.35      0\n",
       "1    0.07  0.40  0.48  0.5  0.54  0.35  0.44      0\n",
       "2    0.56  0.40  0.48  0.5  0.49  0.37  0.46      0\n",
       "3    0.59  0.49  0.48  0.5  0.52  0.45  0.36      0\n",
       "4    0.23  0.32  0.48  0.5  0.55  0.25  0.35      0\n",
       "..    ...   ...   ...  ...   ...   ...   ...    ...\n",
       "322  0.74  0.56  0.48  0.5  0.47  0.68  0.30      7\n",
       "323  0.71  0.57  0.48  0.5  0.48  0.35  0.32      7\n",
       "324  0.61  0.60  0.48  0.5  0.44  0.39  0.38      7\n",
       "325  0.59  0.61  0.48  0.5  0.42  0.42  0.37      7\n",
       "326  0.74  0.74  0.48  0.5  0.31  0.53  0.52      7\n",
       "\n",
       "[327 rows x 8 columns]"
      ]
     },
     "execution_count": 3,
     "metadata": {},
     "output_type": "execute_result"
    }
   ],
   "source": [
    "loaded_dataset"
   ]
  },
  {
   "cell_type": "code",
   "execution_count": 4,
   "metadata": {},
   "outputs": [],
   "source": [
    "def minmax(dataset):\n",
    "    result: List[Tuple[float, float]] = []\n",
    "    for i in range(len(dataset[0]) - 1):\n",
    "        result.append((dataset[:, i].min(), dataset[:, i].max()))\n",
    "    return result\n",
    "\n",
    "\n",
    "def normalize(dataset):\n",
    "    new_dataset = dataset.copy()\n",
    "    min_max = minmax(dataset)\n",
    "    for row in new_dataset:\n",
    "        for i in range(len(row) - 1):\n",
    "            if min_max[i][1] - min_max[i][0] == 0:\n",
    "                row[i] = row[i]\n",
    "            else:\n",
    "                row[i] = (row[i] - min_max[i][0]) / (min_max[i][1] - min_max[i][0])\n",
    "    return new_dataset\n",
    "\n",
    "\n",
    "def classes_number(dataset: List[Tuple[List[float], int]]):\n",
    "    classes = set()\n",
    "    for row in dataset:\n",
    "        classes.add(row[1])\n",
    "    print(classes)\n",
    "    return len(classes)\n",
    "\n",
    "def shift_classes_if_needed(dataset):\n",
    "    new_dataset = dataset.copy()\n",
    "    cl = 1\n",
    "    new_classes = {}\n",
    "    for row in new_dataset:  \n",
    "        if row[len(row) - 1] not in new_classes:\n",
    "            new_classes[row[len(row) - 1]] = cl \n",
    "            cl = cl + 1\n",
    "        row[len(row) - 1] = new_classes[row[len(row) - 1]]\n",
    "    return new_dataset\n",
    "        \n"
   ]
  },
  {
   "cell_type": "code",
   "execution_count": 5,
   "metadata": {},
   "outputs": [],
   "source": [
    "norm_dataset = shift_classes_if_needed(normalize(loaded_dataset.values))\n"
   ]
  },
  {
   "cell_type": "code",
   "execution_count": 6,
   "metadata": {},
   "outputs": [
    {
     "data": {
      "text/html": [
       "<div>\n",
       "<style scoped>\n",
       "    .dataframe tbody tr th:only-of-type {\n",
       "        vertical-align: middle;\n",
       "    }\n",
       "\n",
       "    .dataframe tbody tr th {\n",
       "        vertical-align: top;\n",
       "    }\n",
       "\n",
       "    .dataframe thead th {\n",
       "        text-align: right;\n",
       "    }\n",
       "</style>\n",
       "<table border=\"1\" class=\"dataframe\">\n",
       "  <thead>\n",
       "    <tr style=\"text-align: right;\">\n",
       "      <th></th>\n",
       "      <th>0</th>\n",
       "      <th>1</th>\n",
       "      <th>2</th>\n",
       "      <th>3</th>\n",
       "      <th>4</th>\n",
       "      <th>5</th>\n",
       "      <th>6</th>\n",
       "      <th>7</th>\n",
       "    </tr>\n",
       "  </thead>\n",
       "  <tbody>\n",
       "    <tr>\n",
       "      <th>0</th>\n",
       "      <td>0.550562</td>\n",
       "      <td>0.154762</td>\n",
       "      <td>0.0</td>\n",
       "      <td>0.5</td>\n",
       "      <td>0.636364</td>\n",
       "      <td>0.216495</td>\n",
       "      <td>0.353535</td>\n",
       "      <td>1.0</td>\n",
       "    </tr>\n",
       "    <tr>\n",
       "      <th>1</th>\n",
       "      <td>0.078652</td>\n",
       "      <td>0.285714</td>\n",
       "      <td>0.0</td>\n",
       "      <td>0.5</td>\n",
       "      <td>0.613636</td>\n",
       "      <td>0.329897</td>\n",
       "      <td>0.444444</td>\n",
       "      <td>1.0</td>\n",
       "    </tr>\n",
       "    <tr>\n",
       "      <th>2</th>\n",
       "      <td>0.629213</td>\n",
       "      <td>0.285714</td>\n",
       "      <td>0.0</td>\n",
       "      <td>0.5</td>\n",
       "      <td>0.556818</td>\n",
       "      <td>0.350515</td>\n",
       "      <td>0.464646</td>\n",
       "      <td>1.0</td>\n",
       "    </tr>\n",
       "    <tr>\n",
       "      <th>3</th>\n",
       "      <td>0.662921</td>\n",
       "      <td>0.392857</td>\n",
       "      <td>0.0</td>\n",
       "      <td>0.5</td>\n",
       "      <td>0.590909</td>\n",
       "      <td>0.432990</td>\n",
       "      <td>0.363636</td>\n",
       "      <td>1.0</td>\n",
       "    </tr>\n",
       "    <tr>\n",
       "      <th>4</th>\n",
       "      <td>0.258427</td>\n",
       "      <td>0.190476</td>\n",
       "      <td>0.0</td>\n",
       "      <td>0.5</td>\n",
       "      <td>0.625000</td>\n",
       "      <td>0.226804</td>\n",
       "      <td>0.353535</td>\n",
       "      <td>1.0</td>\n",
       "    </tr>\n",
       "    <tr>\n",
       "      <th>...</th>\n",
       "      <td>...</td>\n",
       "      <td>...</td>\n",
       "      <td>...</td>\n",
       "      <td>...</td>\n",
       "      <td>...</td>\n",
       "      <td>...</td>\n",
       "      <td>...</td>\n",
       "      <td>...</td>\n",
       "    </tr>\n",
       "    <tr>\n",
       "      <th>322</th>\n",
       "      <td>0.831461</td>\n",
       "      <td>0.476190</td>\n",
       "      <td>0.0</td>\n",
       "      <td>0.5</td>\n",
       "      <td>0.534091</td>\n",
       "      <td>0.670103</td>\n",
       "      <td>0.303030</td>\n",
       "      <td>5.0</td>\n",
       "    </tr>\n",
       "    <tr>\n",
       "      <th>323</th>\n",
       "      <td>0.797753</td>\n",
       "      <td>0.488095</td>\n",
       "      <td>0.0</td>\n",
       "      <td>0.5</td>\n",
       "      <td>0.545455</td>\n",
       "      <td>0.329897</td>\n",
       "      <td>0.323232</td>\n",
       "      <td>5.0</td>\n",
       "    </tr>\n",
       "    <tr>\n",
       "      <th>324</th>\n",
       "      <td>0.685393</td>\n",
       "      <td>0.523810</td>\n",
       "      <td>0.0</td>\n",
       "      <td>0.5</td>\n",
       "      <td>0.500000</td>\n",
       "      <td>0.371134</td>\n",
       "      <td>0.383838</td>\n",
       "      <td>5.0</td>\n",
       "    </tr>\n",
       "    <tr>\n",
       "      <th>325</th>\n",
       "      <td>0.662921</td>\n",
       "      <td>0.535714</td>\n",
       "      <td>0.0</td>\n",
       "      <td>0.5</td>\n",
       "      <td>0.477273</td>\n",
       "      <td>0.402062</td>\n",
       "      <td>0.373737</td>\n",
       "      <td>5.0</td>\n",
       "    </tr>\n",
       "    <tr>\n",
       "      <th>326</th>\n",
       "      <td>0.831461</td>\n",
       "      <td>0.690476</td>\n",
       "      <td>0.0</td>\n",
       "      <td>0.5</td>\n",
       "      <td>0.352273</td>\n",
       "      <td>0.515464</td>\n",
       "      <td>0.525253</td>\n",
       "      <td>5.0</td>\n",
       "    </tr>\n",
       "  </tbody>\n",
       "</table>\n",
       "<p>327 rows × 8 columns</p>\n",
       "</div>"
      ],
      "text/plain": [
       "            0         1    2    3         4         5         6    7\n",
       "0    0.550562  0.154762  0.0  0.5  0.636364  0.216495  0.353535  1.0\n",
       "1    0.078652  0.285714  0.0  0.5  0.613636  0.329897  0.444444  1.0\n",
       "2    0.629213  0.285714  0.0  0.5  0.556818  0.350515  0.464646  1.0\n",
       "3    0.662921  0.392857  0.0  0.5  0.590909  0.432990  0.363636  1.0\n",
       "4    0.258427  0.190476  0.0  0.5  0.625000  0.226804  0.353535  1.0\n",
       "..        ...       ...  ...  ...       ...       ...       ...  ...\n",
       "322  0.831461  0.476190  0.0  0.5  0.534091  0.670103  0.303030  5.0\n",
       "323  0.797753  0.488095  0.0  0.5  0.545455  0.329897  0.323232  5.0\n",
       "324  0.685393  0.523810  0.0  0.5  0.500000  0.371134  0.383838  5.0\n",
       "325  0.662921  0.535714  0.0  0.5  0.477273  0.402062  0.373737  5.0\n",
       "326  0.831461  0.690476  0.0  0.5  0.352273  0.515464  0.525253  5.0\n",
       "\n",
       "[327 rows x 8 columns]"
      ]
     },
     "execution_count": 6,
     "metadata": {},
     "output_type": "execute_result"
    }
   ],
   "source": [
    "pd.DataFrame(norm_dataset)"
   ]
  },
  {
   "cell_type": "code",
   "execution_count": 7,
   "metadata": {},
   "outputs": [
    {
     "data": {
      "text/plain": [
       "1.5005041867655102"
      ]
     },
     "execution_count": 7,
     "metadata": {},
     "output_type": "execute_result"
    }
   ],
   "source": [
    "max_dist = 0\n",
    "for row1 in norm_dataset:\n",
    "    for row2 in norm_dataset:\n",
    "        max_dist = max(h.calculate_distance(row1[: len(row1) - 1],row2[:len(row2) - 1], h.Distance.euclidean), max_dist)\n",
    "max_dist"
   ]
  },
  {
   "cell_type": "code",
   "execution_count": 8,
   "metadata": {},
   "outputs": [],
   "source": [
    "def all_models():\n",
    "    models = []\n",
    "    for window in h.all_windows():\n",
    "        for kernel in h.all_kernels():\n",
    "            for distance in h.all_distances():\n",
    "                params = []\n",
    "                if window == h.Window.variable:\n",
    "                    params = range(1, 50, 8)\n",
    "                else:\n",
    "                    params = np.linspace(0.1, 1.5, 10)\n",
    "                for param in params:\n",
    "                    model = h.Model(distance, kernel, window, param)\n",
    "                    models.append(model)\n",
    "    return models"
   ]
  },
  {
   "cell_type": "code",
   "execution_count": 9,
   "metadata": {},
   "outputs": [],
   "source": [
    "models = all_models()"
   ]
  },
  {
   "cell_type": "code",
   "execution_count": 10,
   "metadata": {},
   "outputs": [],
   "source": [
    "def build_cm_naive(dataset: List[Tuple[List[float], int]], model: h.Model):\n",
    "    n = classes_number(dataset)\n",
    "    cm = [[0 for _ in range(n)] for _i in range(n)]\n",
    "    for target_i in range(len(dataset)):\n",
    "        obj, label = dataset[target_i]\n",
    "        train_set = dataset[:target_i]\n",
    "        if target_i != len(dataset) - 1:\n",
    "            train_set += dataset[target_i + 1:]\n",
    "        prediction = h.predict_class_of_target_naive(train_set, obj, model)\n",
    "        cm[int(label) - 1][prediction - 1] += 1\n",
    "    return cm\n",
    "\n",
    "def build_cm_onehot(dataset: List[Tuple[List[float], int]], model: h.Model):\n",
    "    n = classes_number(dataset)\n",
    "    cm = [[0 for _ in range(n)] for _i in range(n)]\n",
    "    for target_i in range(len(dataset)):\n",
    "        obj, label = dataset[target_i]\n",
    "        train_set = dataset[:target_i]\n",
    "        if target_i != len(dataset) - 1:\n",
    "            train_set += dataset[target_i + 1:]\n",
    "        prediction = h.predict_class_of_target_onehot(train_set, obj, model, n)\n",
    "        cm[int(label) - 1][prediction - 1] += 1\n",
    "    return cm\n",
    "\n",
    "def dataset_to_local_representation(dataset):\n",
    "    values = dataset.tolist()\n",
    "    my_dataset = []\n",
    "    for row in values:\n",
    "        attrs_row = []\n",
    "        for i in (range(len(row) - 1)):\n",
    "            attrs_row.append(row[i])\n",
    "        label = row[len(row) - 1]\n",
    "        my_dataset.append((attrs_row, label))\n",
    "    return my_dataset\n",
    "\n",
    "def classes_number(dataset: List[Tuple[List[float], int]]):\n",
    "    classes = set()\n",
    "    for row in dataset:\n",
    "        classes.add(row[1])\n",
    "    return len(classes)"
   ]
  },
  {
   "cell_type": "code",
   "execution_count": 11,
   "metadata": {
    "scrolled": true
   },
   "outputs": [
    {
     "name": "stderr",
     "output_type": "stream",
     "text": [
      "100%|██████████| 510/510 [11:46<00:00,  1.39s/it]"
     ]
    },
    {
     "name": "stdout",
     "output_type": "stream",
     "text": [
      "0.8398511922250027\n",
      "Model: Distance.euclidean Kernel.tricube Window.fixed 0.25555555555555554\n"
     ]
    },
    {
     "name": "stderr",
     "output_type": "stream",
     "text": [
      "\n"
     ]
    }
   ],
   "source": [
    "local_dataset = dataset_to_local_representation(norm_dataset)\n",
    "max_micro_f1 = 0\n",
    "best_model_by_micro_f1 = models[0]\n",
    "for model in tqdm(models):\n",
    "    cm = build_cm_naive(local_dataset, model)\n",
    "    _, micro_f1 = f.macro_micro_f(cm)\n",
    "    if micro_f1 > max_micro_f1:\n",
    "        best_model_by_micro_f1 = model\n",
    "        max_micro_f1 = micro_f1\n",
    "    \n",
    "\n",
    "print(max_micro_f1)\n",
    "print(best_model_by_micro_f1)\n",
    "best_naive_model = best_model_by_micro_f1"
   ]
  },
  {
   "cell_type": "code",
   "execution_count": 12,
   "metadata": {},
   "outputs": [
    {
     "data": {
      "text/html": [
       "<div>\n",
       "<style scoped>\n",
       "    .dataframe tbody tr th:only-of-type {\n",
       "        vertical-align: middle;\n",
       "    }\n",
       "\n",
       "    .dataframe tbody tr th {\n",
       "        vertical-align: top;\n",
       "    }\n",
       "\n",
       "    .dataframe thead th {\n",
       "        text-align: right;\n",
       "    }\n",
       "</style>\n",
       "<table border=\"1\" class=\"dataframe\">\n",
       "  <thead>\n",
       "    <tr style=\"text-align: right;\">\n",
       "      <th></th>\n",
       "      <th>1</th>\n",
       "      <th>2</th>\n",
       "      <th>3</th>\n",
       "      <th>4</th>\n",
       "      <th>5</th>\n",
       "    </tr>\n",
       "  </thead>\n",
       "  <tbody>\n",
       "    <tr>\n",
       "      <th>1</th>\n",
       "      <td>134</td>\n",
       "      <td>6</td>\n",
       "      <td>1</td>\n",
       "      <td>1</td>\n",
       "      <td>1</td>\n",
       "    </tr>\n",
       "    <tr>\n",
       "      <th>2</th>\n",
       "      <td>3</td>\n",
       "      <td>63</td>\n",
       "      <td>11</td>\n",
       "      <td>0</td>\n",
       "      <td>0</td>\n",
       "    </tr>\n",
       "    <tr>\n",
       "      <th>3</th>\n",
       "      <td>1</td>\n",
       "      <td>11</td>\n",
       "      <td>23</td>\n",
       "      <td>0</td>\n",
       "      <td>0</td>\n",
       "    </tr>\n",
       "    <tr>\n",
       "      <th>4</th>\n",
       "      <td>0</td>\n",
       "      <td>1</td>\n",
       "      <td>0</td>\n",
       "      <td>17</td>\n",
       "      <td>2</td>\n",
       "    </tr>\n",
       "    <tr>\n",
       "      <th>5</th>\n",
       "      <td>3</td>\n",
       "      <td>1</td>\n",
       "      <td>1</td>\n",
       "      <td>10</td>\n",
       "      <td>37</td>\n",
       "    </tr>\n",
       "  </tbody>\n",
       "</table>\n",
       "</div>"
      ],
      "text/plain": [
       "     1   2   3   4   5\n",
       "1  134   6   1   1   1\n",
       "2    3  63  11   0   0\n",
       "3    1  11  23   0   0\n",
       "4    0   1   0  17   2\n",
       "5    3   1   1  10  37"
      ]
     },
     "execution_count": 12,
     "metadata": {},
     "output_type": "execute_result"
    }
   ],
   "source": [
    "cm = build_cm_naive(local_dataset, best_naive_model)\n",
    "pd.DataFrame(cm, columns=[1,2,3,4,5], index=[1,2,3,4,5])"
   ]
  },
  {
   "cell_type": "code",
   "execution_count": 13,
   "metadata": {},
   "outputs": [
    {
     "name": "stderr",
     "output_type": "stream",
     "text": [
      "100%|██████████| 510/510 [1:01:27<00:00,  7.23s/it]"
     ]
    },
    {
     "name": "stdout",
     "output_type": "stream",
     "text": [
      "0.8176397930073374\n",
      "Model: Distance.manhattan Kernel.uniform Window.variable 1\n"
     ]
    },
    {
     "name": "stderr",
     "output_type": "stream",
     "text": [
      "\n"
     ]
    }
   ],
   "source": [
    "best_model_by_micro_f1 = models[0]\n",
    "max_micro_f1 = 0\n",
    "for model in tqdm(models):\n",
    "    cm = build_cm_onehot(local_dataset, model)\n",
    "    _, micro_f1 = f.macro_micro_f(cm)\n",
    "    if micro_f1 > max_micro_f1:\n",
    "        best_model_by_micro_f1 = model\n",
    "        max_micro_f1 = micro_f1\n",
    "        \n",
    "\n",
    "print(max_micro_f1)\n",
    "print(best_model_by_micro_f1)\n",
    "best_onehot_model = best_model_by_micro_f1"
   ]
  },
  {
   "cell_type": "code",
   "execution_count": 18,
   "metadata": {
    "pycharm": {
     "name": "#%%\n"
    }
   },
   "outputs": [
    {
     "data": {
      "text/html": [
       "<div>\n",
       "<style scoped>\n",
       "    .dataframe tbody tr th:only-of-type {\n",
       "        vertical-align: middle;\n",
       "    }\n",
       "\n",
       "    .dataframe tbody tr th {\n",
       "        vertical-align: top;\n",
       "    }\n",
       "\n",
       "    .dataframe thead th {\n",
       "        text-align: right;\n",
       "    }\n",
       "</style>\n",
       "<table border=\"1\" class=\"dataframe\">\n",
       "  <thead>\n",
       "    <tr style=\"text-align: right;\">\n",
       "      <th></th>\n",
       "      <th>1</th>\n",
       "      <th>2</th>\n",
       "      <th>3</th>\n",
       "      <th>4</th>\n",
       "      <th>5</th>\n",
       "    </tr>\n",
       "  </thead>\n",
       "  <tbody>\n",
       "    <tr>\n",
       "      <th>1</th>\n",
       "      <td>134</td>\n",
       "      <td>3</td>\n",
       "      <td>0</td>\n",
       "      <td>0</td>\n",
       "      <td>6</td>\n",
       "    </tr>\n",
       "    <tr>\n",
       "      <th>2</th>\n",
       "      <td>3</td>\n",
       "      <td>55</td>\n",
       "      <td>18</td>\n",
       "      <td>0</td>\n",
       "      <td>1</td>\n",
       "    </tr>\n",
       "    <tr>\n",
       "      <th>3</th>\n",
       "      <td>1</td>\n",
       "      <td>13</td>\n",
       "      <td>21</td>\n",
       "      <td>0</td>\n",
       "      <td>0</td>\n",
       "    </tr>\n",
       "    <tr>\n",
       "      <th>4</th>\n",
       "      <td>0</td>\n",
       "      <td>0</td>\n",
       "      <td>1</td>\n",
       "      <td>15</td>\n",
       "      <td>4</td>\n",
       "    </tr>\n",
       "    <tr>\n",
       "      <th>5</th>\n",
       "      <td>6</td>\n",
       "      <td>1</td>\n",
       "      <td>0</td>\n",
       "      <td>3</td>\n",
       "      <td>42</td>\n",
       "    </tr>\n",
       "  </tbody>\n",
       "</table>\n",
       "</div>"
      ],
      "text/plain": [
       "     1   2   3   4   5\n",
       "1  134   3   0   0   6\n",
       "2    3  55  18   0   1\n",
       "3    1  13  21   0   0\n",
       "4    0   0   1  15   4\n",
       "5    6   1   0   3  42"
      ]
     },
     "execution_count": 18,
     "metadata": {},
     "output_type": "execute_result"
    }
   ],
   "source": [
    "cm = build_cm_onehot(local_dataset, best_onehot_model)\n",
    "pd.DataFrame(cm, columns=[1,2,3,4,5], index=[1,2,3,4,5])"
   ]
  },
  {
   "cell_type": "code",
   "execution_count": 22,
   "metadata": {},
   "outputs": [
    {
     "name": "stderr",
     "output_type": "stream",
     "text": [
      "100%|██████████| 100/100 [01:58<00:00,  1.19s/it]\n"
     ]
    }
   ],
   "source": [
    "params_fixed = np.linspace(0.01, 1.5, 100)\n",
    "f_micro_scores = []\n",
    "for param in tqdm(params_fixed):\n",
    "    cm = build_cm_naive(local_dataset, h.Model(h.Distance.euclidean, h.Kernel.tricube, h.Window.fixed, param))\n",
    "    _, micro_f1 = f.macro_micro_f(cm)\n",
    "    f_micro_scores.append(micro_f1)\n"
   ]
  },
  {
   "cell_type": "code",
   "execution_count": 23,
   "metadata": {
    "pycharm": {
     "name": "#%%\n"
    }
   },
   "outputs": [
    {
     "data": {
      "text/plain": [
       "[<matplotlib.lines.Line2D at 0x11ea70fa0>]"
      ]
     },
     "execution_count": 23,
     "metadata": {},
     "output_type": "execute_result"
    },
    {
     "data": {
      "image/png": "[encoded data removed]",
      "text/plain": [
       "<Figure size 432x288 with 1 Axes>"
      ]
     },
     "metadata": {
      "needs_background": "light"
     },
     "output_type": "display_data"
    }
   ],
   "source": [
    "plt.plot(params_fixed, f_micro_scores)"
   ]
  },
  {
   "cell_type": "code",
   "execution_count": 34,
   "metadata": {
    "pycharm": {
     "name": "#%%\n"
    }
   },
   "outputs": [
    {
     "name": "stderr",
     "output_type": "stream",
     "text": [
      "100%|██████████| 99/99 [11:49<00:00,  7.16s/it]\n"
     ]
    }
   ],
   "source": [
    "params_var: List[int] = range(1, 100)\n",
    "f_micro_scores = []\n",
    "for param in tqdm(params_var):\n",
    "    cm = build_cm_onehot(local_dataset, h.Model(h.Distance.manhattan, h.Kernel.uniform, h.Window.variable, int(param)))\n",
    "    _, micro_f1 = f.macro_micro_f(cm)\n",
    "    f_micro_scores.append(micro_f1)\n"
   ]
  },
  {
   "cell_type": "code",
   "execution_count": 36,
   "metadata": {},
   "outputs": [
    {
     "data": {
      "text/plain": [
       "[<matplotlib.lines.Line2D at 0x11ecd9cd0>]"
      ]
     },
     "execution_count": 36,
     "metadata": {},
     "output_type": "execute_result"
    },
    {
     "data": {
      "image/png": "[encoded data removed]",
      "text/plain": [
       "<Figure size 432x288 with 1 Axes>"
      ]
     },
     "metadata": {
      "needs_background": "light"
     },
     "output_type": "display_data"
    }
   ],
   "source": [
    "plt.plot(params_var, f_micro_scores)"
   ]
  },
  {
   "cell_type": "code",
   "execution_count": null,
   "metadata": {},
   "outputs": [],
   "source": []
  },
  {
   "cell_type": "code",
   "execution_count": null,
   "metadata": {},
   "outputs": [],
   "source": []
  }
 ],
 "metadata": {
  "kernelspec": {
   "display_name": "Python 3",
   "language": "python",
   "name": "python3"
  },
  "language_info": {
   "codemirror_mode": {
    "name": "ipython",
    "version": 3
   },
   "file_extension": ".py",
   "mimetype": "text/x-python",
   "name": "python",
   "nbconvert_exporter": "python",
   "pygments_lexer": "ipython3",
   "version": "3.8.4"
  }
 },
 "nbformat": 4,
 "nbformat_minor": 4
}
