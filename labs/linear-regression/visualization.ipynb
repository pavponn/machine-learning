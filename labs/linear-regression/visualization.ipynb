{
 "cells": [
  {
   "cell_type": "code",
   "execution_count": 1,
   "metadata": {},
   "outputs": [],
   "source": [
    "from typing import List, Tuple\n",
    "from tqdm import tqdm\n",
    "from scipy import linalg\n",
    "import matplotlib.pyplot as plt\n",
    "import numpy as np\n",
    "import random\n",
    "import math"
   ]
  },
  {
   "cell_type": "code",
   "execution_count": 33,
   "metadata": {},
   "outputs": [],
   "source": [
    "file_names = [\"1\", \"2\", \"3\", \"4\", \"5\", \"6\", \"7\"]\n",
    "path = \"resources/\"\n",
    "extension = \".txt\"\n",
    "files = [path + file_name + extension for file_name in file_names]\n",
    "#\n",
    "my_files = list(files[1:])"
   ]
  },
  {
   "cell_type": "code",
   "execution_count": 3,
   "metadata": {},
   "outputs": [],
   "source": [
    "class Dataset(object):\n",
    "    def __init__(self, x_train, y_train, x_test, y_test):\n",
    "        self.x_train = np.array(x_train)\n",
    "        self.y_train = np.array(y_train)\n",
    "        self.x_test = np.array(x_test)\n",
    "        self.y_test = np.array(y_test)\n",
    "    \n",
    "    def attributes_num(self):\n",
    "        return self.x_train.shape[1]\n",
    "\n",
    "class Graph(object):\n",
    "    def __init__(self, x_axis=[], y_axis=[]):\n",
    "        self.x_axis = x_axis\n",
    "        self.y_axis = y_axis\n",
    "    \n",
    "    def add_point(self, x, y):\n",
    "        self.x_axis.append(x)\n",
    "        self.y_axis.append(y)"
   ]
  },
  {
   "cell_type": "code",
   "execution_count": 4,
   "metadata": {},
   "outputs": [],
   "source": [
    "def read_dataset_from_file(filename):\n",
    "    file = open(filename, 'r')\n",
    "    m = int(file.readline())\n",
    "    n_train = int(file.readline())\n",
    "    objects_train = []\n",
    "    labels_train = []\n",
    "    rows = []\n",
    "    for _ in range(n_train):\n",
    "        obj = [float(x) for x in file.readline().split()]\n",
    "        rows.append(obj)\n",
    "    for row in rows:\n",
    "        label = row.pop()\n",
    "        objects_train.append(row + [1.])\n",
    "        labels_train.append(label)\n",
    "\n",
    "    n_test = int(file.readline())\n",
    "    \n",
    "    objects_test: List[List[int]] = []\n",
    "    labels_test: [List[int]] = []\n",
    "    rows = []\n",
    "    for _ in range(n_test):\n",
    "        obj = [float(x) for x in file.readline().split()]\n",
    "        rows.append(obj)\n",
    "    for row in rows:\n",
    "        label = row.pop()\n",
    "        objects_test.append(row + [1.])\n",
    "        labels_test.append(label)\n",
    "    file.close()\n",
    "    return Dataset(objects_train, labels_train, objects_test, labels_test)"
   ]
  },
  {
   "cell_type": "code",
   "execution_count": 5,
   "metadata": {},
   "outputs": [],
   "source": [
    "def nrmse(X, y, w):\n",
    "    pred = X @ w\n",
    "    sum_errors = sum([(y1 - y2) ** 2 for (y1, y2) in zip(y, pred)])\n",
    "    return np.sqrt(sum_errors / len(y)) / (np.max(y) - np.min(y))\n"
   ]
  },
  {
   "cell_type": "code",
   "execution_count": 6,
   "metadata": {},
   "outputs": [],
   "source": [
    "def compute_stochastic_gradient(X_i, y_i, w, lambda_reg):\n",
    "    return 2 * (np.dot(w, X_i) - y_i) * X_i + 2 * lambda_reg * w\n",
    "\n",
    "def learning_rate(grad, X_i, y_i, w):\n",
    "    scalar_products = np.transpose(X_i @ grad.T)\n",
    "    s = np.sum(np.square(scalar_products))\n",
    "    if s == 0:\n",
    "        return 0\n",
    "    else:\n",
    "        return np.dot(np.dot(X_i, w.T) - y_i, scalar_products) / s"
   ]
  },
  {
   "cell_type": "code",
   "execution_count": 7,
   "metadata": {},
   "outputs": [],
   "source": [
    "def do_gradient(x, y, steps_limit, lambda_reg=1):\n",
    "    graph = Graph([], [])\n",
    "    m = len(x[0]) - 1\n",
    "    w =  np.array([random.uniform(-1./(2 * m), 1./(2 * m)) for _ in range(m + 1)])\n",
    "    for step in range(steps_limit):\n",
    "        i = random.randint(0, len(x) - 1)\n",
    "        X_i = x[i]\n",
    "        y_i = y[i]\n",
    "        grad = compute_stochastic_gradient(X_i, y_i, w, lambda_reg)\n",
    "        mu = learning_rate(grad, X_i, y_i, w) / (step + 1)\n",
    "        w = w * (1 - mu * lambda_reg) - grad * mu\n",
    "        err = nrmse(x, y, w)\n",
    "        graph.add_point(step, err)\n",
    "    return graph"
   ]
  },
  {
   "cell_type": "code",
   "execution_count": 8,
   "metadata": {},
   "outputs": [],
   "source": [
    "def gradient_with_lambda(x, y, lambda_reg):\n",
    "    graph = do_gradient(x, y, 2000, lambda_reg)\n",
    "    err = graph.y_axis[-1]\n",
    "    return err, graph\n",
    "\n",
    "    \n",
    "def handle_file(file):\n",
    "    dataset = read_dataset_from_file(file)\n",
    "    lambda_regs = [0, 1e-5, 1e-2, 1e-1] + list(range(1, 100))\n",
    "    best_graph = Graph([], [])\n",
    "    best_err = 9999999\n",
    "    best_lambda = 0\n",
    "    for lambda_reg in tqdm(lambda_regs):\n",
    "        cur_err, _ = gradient_with_lambda(dataset.x_train, dataset.y_train, lambda_reg)\n",
    "        if cur_err < best_err:\n",
    "            best_err = cur_err\n",
    "            best_lambda = lambda_reg\n",
    "    print(f'Best lambda: {best_lambda}')\n",
    "    _, graph1 = gradient_with_lambda(dataset.x_train, dataset.y_train, best_lambda)\n",
    "    _, graph2 = gradient_with_lambda(dataset.x_test, dataset.y_test, best_lambda)\n",
    "    plt.plot(graph1.x_axis, graph1.y_axis)\n",
    "    plt.show()\n",
    "    plt.plot(graph2.x_axis, graph2.y_axis)\n",
    "    plt.show()"
   ]
  },
  {
   "cell_type": "code",
   "execution_count": 9,
   "metadata": {},
   "outputs": [
    {
     "name": "stderr",
     "output_type": "stream",
     "text": [
      "100%|██████████| 103/103 [03:57<00:00,  2.31s/it]\n"
     ]
    },
    {
     "name": "stdout",
     "output_type": "stream",
     "text": [
      "Best lambda: 86\n"
     ]
    },
    {
     "data": {
      "image/png": "[encoded data removed]",
      "text/plain": [
       "<Figure size 432x288 with 1 Axes>"
      ]
     },
     "metadata": {
      "needs_background": "light"
     },
     "output_type": "display_data"
    },
    {
     "data": {
      "image/png": "[encoded data removed]",
      "text/plain": [
       "<Figure size 432x288 with 1 Axes>"
      ]
     },
     "metadata": {
      "needs_background": "light"
     },
     "output_type": "display_data"
    }
   ],
   "source": [
    "handle_file(files[0])"
   ]
  },
  {
   "cell_type": "code",
   "execution_count": 10,
   "metadata": {},
   "outputs": [
    {
     "name": "stderr",
     "output_type": "stream",
     "text": [
      "100%|██████████| 103/103 [04:15<00:00,  2.48s/it]\n"
     ]
    },
    {
     "name": "stdout",
     "output_type": "stream",
     "text": [
      "Best lambda: 22\n"
     ]
    },
    {
     "data": {
      "image/png": "[encoded data removed]",
      "text/plain": [
       "<Figure size 432x288 with 1 Axes>"
      ]
     },
     "metadata": {
      "needs_background": "light"
     },
     "output_type": "display_data"
    },
    {
     "data": {
      "image/png": "[encoded data removed]",
      "text/plain": [
       "<Figure size 432x288 with 1 Axes>"
      ]
     },
     "metadata": {
      "needs_background": "light"
     },
     "output_type": "display_data"
    }
   ],
   "source": [
    "handle_file(files[1])"
   ]
  },
  {
   "cell_type": "code",
   "execution_count": 11,
   "metadata": {},
   "outputs": [
    {
     "name": "stderr",
     "output_type": "stream",
     "text": [
      "100%|██████████| 103/103 [00:19<00:00,  5.37it/s]\n"
     ]
    },
    {
     "name": "stdout",
     "output_type": "stream",
     "text": [
      "Best lambda: 85\n"
     ]
    },
    {
     "data": {
      "image/png": "[encoded data removed]",
      "text/plain": [
       "<Figure size 432x288 with 1 Axes>"
      ]
     },
     "metadata": {
      "needs_background": "light"
     },
     "output_type": "display_data"
    },
    {
     "data": {
      "image/png": "[encoded data removed]",
      "text/plain": [
       "<Figure size 432x288 with 1 Axes>"
      ]
     },
     "metadata": {
      "needs_background": "light"
     },
     "output_type": "display_data"
    }
   ],
   "source": [
    "handle_file(files[2])"
   ]
  },
  {
   "cell_type": "code",
   "execution_count": 12,
   "metadata": {},
   "outputs": [
    {
     "name": "stderr",
     "output_type": "stream",
     "text": [
      "100%|██████████| 103/103 [11:28<00:00,  6.69s/it]\n"
     ]
    },
    {
     "name": "stdout",
     "output_type": "stream",
     "text": [
      "Best lambda: 64\n"
     ]
    },
    {
     "data": {
      "image/png": "[encoded data removed]",
      "text/plain": [
       "<Figure size 432x288 with 1 Axes>"
      ]
     },
     "metadata": {
      "needs_background": "light"
     },
     "output_type": "display_data"
    },
    {
     "data": {
      "image/png": "[encoded data removed]",
      "text/plain": [
       "<Figure size 432x288 with 1 Axes>"
      ]
     },
     "metadata": {
      "needs_background": "light"
     },
     "output_type": "display_data"
    }
   ],
   "source": [
    "handle_file(files[3])"
   ]
  },
  {
   "cell_type": "code",
   "execution_count": 13,
   "metadata": {},
   "outputs": [
    {
     "name": "stderr",
     "output_type": "stream",
     "text": [
      "100%|██████████| 103/103 [02:55<00:00,  1.70s/it]\n"
     ]
    },
    {
     "name": "stdout",
     "output_type": "stream",
     "text": [
      "Best lambda: 75\n"
     ]
    },
    {
     "data": {
      "image/png": "[encoded data removed]",
      "text/plain": [
       "<Figure size 432x288 with 1 Axes>"
      ]
     },
     "metadata": {
      "needs_background": "light"
     },
     "output_type": "display_data"
    },
    {
     "data": {
      "image/png": "[encoded data removed]",
      "text/plain": [
       "<Figure size 432x288 with 1 Axes>"
      ]
     },
     "metadata": {
      "needs_background": "light"
     },
     "output_type": "display_data"
    }
   ],
   "source": [
    "handle_file(files[4])"
   ]
  },
  {
   "cell_type": "code",
   "execution_count": 14,
   "metadata": {},
   "outputs": [
    {
     "name": "stderr",
     "output_type": "stream",
     "text": [
      "100%|██████████| 103/103 [03:21<00:00,  1.96s/it]\n"
     ]
    },
    {
     "name": "stdout",
     "output_type": "stream",
     "text": [
      "Best lambda: 25\n"
     ]
    },
    {
     "data": {
      "image/png": "[encoded data removed]",
      "text/plain": [
       "<Figure size 432x288 with 1 Axes>"
      ]
     },
     "metadata": {
      "needs_background": "light"
     },
     "output_type": "display_data"
    },
    {
     "data": {
      "image/png": "[encoded data removed]",
      "text/plain": [
       "<Figure size 432x288 with 1 Axes>"
      ]
     },
     "metadata": {
      "needs_background": "light"
     },
     "output_type": "display_data"
    }
   ],
   "source": [
    "handle_file(files[5])"
   ]
  },
  {
   "cell_type": "code",
   "execution_count": 15,
   "metadata": {},
   "outputs": [
    {
     "name": "stderr",
     "output_type": "stream",
     "text": [
      "100%|██████████| 103/103 [10:07<00:00,  5.89s/it]\n"
     ]
    },
    {
     "name": "stdout",
     "output_type": "stream",
     "text": [
      "Best lambda: 43\n"
     ]
    },
    {
     "data": {
      "image/png": "[encoded data removed]",
      "text/plain": [
       "<Figure size 432x288 with 1 Axes>"
      ]
     },
     "metadata": {
      "needs_background": "light"
     },
     "output_type": "display_data"
    },
    {
     "data": {
      "image/png": "[encoded data removed]",
      "text/plain": [
       "<Figure size 432x288 with 1 Axes>"
      ]
     },
     "metadata": {
      "needs_background": "light"
     },
     "output_type": "display_data"
    }
   ],
   "source": [
    "handle_file(files[6])"
   ]
  },
  {
   "cell_type": "code",
   "execution_count": 71,
   "metadata": {},
   "outputs": [],
   "source": [
    "\n",
    "def lsm_regularized(X, y, lambda_reg):\n",
    "    n = X.shape[1]\n",
    "    r = np.linalg.matrix_rank(X)\n",
    "    U, sigma, VT = linalg.svd(X, full_matrices=False)\n",
    "    coefs = ((sigma[:r] ** 2) / (sigma[:r] ** 2  + lambda_reg))\n",
    "    D = np.diag(np.hstack([coefs, np.zeros(n - r)]))\n",
    "    V = VT.T\n",
    "    UT = U.T\n",
    "    w = V.dot(D).dot(UT).dot(y)\n",
    "#     print(np.dot(X, w.T))\n",
    "#     print(f'y:{y}')\n",
    "    return nrmse(X, y, w)\n",
    "    \n",
    "    \n",
    "def handle_file_lsm(file):\n",
    "    dataset = read_dataset_from_file(file)\n",
    "    lambda_regs = [0, 1e-5, 1e-2, 1e-1] + list(range(1, 100))\n",
    "    best_lambda = 0\n",
    "    best_err = 9999999\n",
    "    for lambda_reg in tqdm(lambda_regs):\n",
    "        err = lsm_regularized(dataset.x_train, dataset.y_train, lambda_reg)\n",
    "        if err < best_err:\n",
    "            best_err = err\n",
    "            best_lambda = lambda_reg\n",
    "    print(f'Best lambda: {best_lambda}, Best nrmse: {best_err}')\n",
    "    return best_lambda"
   ]
  },
  {
   "cell_type": "code",
   "execution_count": 72,
   "metadata": {},
   "outputs": [
    {
     "name": "stderr",
     "output_type": "stream",
     "text": [
      "100%|██████████| 103/103 [00:14<00:00,  6.87it/s]"
     ]
    },
    {
     "name": "stdout",
     "output_type": "stream",
     "text": [
      "Best lambda: 0, Best nrmse: 9999999\n"
     ]
    },
    {
     "name": "stderr",
     "output_type": "stream",
     "text": [
      "\n"
     ]
    },
    {
     "data": {
      "text/plain": [
       "0"
      ]
     },
     "execution_count": 72,
     "metadata": {},
     "output_type": "execute_result"
    }
   ],
   "source": [
    "handle_file_lsm(files[0])"
   ]
  },
  {
   "cell_type": "code",
   "execution_count": 40,
   "metadata": {},
   "outputs": [
    {
     "name": "stderr",
     "output_type": "stream",
     "text": [
      "100%|██████████| 103/103 [00:01<00:00, 79.56it/s]"
     ]
    },
    {
     "name": "stdout",
     "output_type": "stream",
     "text": [
      "Best lambda: 1e-05, Best nrmse: 1.6793517606141396e-05\n"
     ]
    },
    {
     "name": "stderr",
     "output_type": "stream",
     "text": [
      "\n"
     ]
    },
    {
     "data": {
      "text/plain": [
       "1e-05"
      ]
     },
     "execution_count": 40,
     "metadata": {},
     "output_type": "execute_result"
    }
   ],
   "source": [
    "handle_file_lsm(files[1])"
   ]
  },
  {
   "cell_type": "code",
   "execution_count": 41,
   "metadata": {},
   "outputs": [
    {
     "name": "stderr",
     "output_type": "stream",
     "text": [
      "100%|██████████| 103/103 [00:05<00:00, 17.63it/s]"
     ]
    },
    {
     "name": "stdout",
     "output_type": "stream",
     "text": [
      "Best lambda: 1e-05, Best nrmse: 0.0007034871826974056\n"
     ]
    },
    {
     "name": "stderr",
     "output_type": "stream",
     "text": [
      "\n"
     ]
    },
    {
     "data": {
      "text/plain": [
       "1e-05"
      ]
     },
     "execution_count": 41,
     "metadata": {},
     "output_type": "execute_result"
    }
   ],
   "source": [
    "handle_file_lsm(files[2])"
   ]
  },
  {
   "cell_type": "code",
   "execution_count": 42,
   "metadata": {},
   "outputs": [
    {
     "name": "stderr",
     "output_type": "stream",
     "text": [
      "100%|██████████| 103/103 [00:21<00:00,  4.81it/s]"
     ]
    },
    {
     "name": "stdout",
     "output_type": "stream",
     "text": [
      "Best lambda: 0.1, Best nrmse: 1.4182537588582557e-08\n"
     ]
    },
    {
     "name": "stderr",
     "output_type": "stream",
     "text": [
      "\n"
     ]
    },
    {
     "data": {
      "text/plain": [
       "0.1"
      ]
     },
     "execution_count": 42,
     "metadata": {},
     "output_type": "execute_result"
    }
   ],
   "source": [
    "handle_file_lsm(files[3])"
   ]
  },
  {
   "cell_type": "code",
   "execution_count": 43,
   "metadata": {},
   "outputs": [
    {
     "name": "stderr",
     "output_type": "stream",
     "text": [
      "100%|██████████| 103/103 [00:24<00:00,  4.14it/s]"
     ]
    },
    {
     "name": "stdout",
     "output_type": "stream",
     "text": [
      "Best lambda: 0, Best nrmse: 0.00039581810607024177\n"
     ]
    },
    {
     "name": "stderr",
     "output_type": "stream",
     "text": [
      "\n"
     ]
    },
    {
     "data": {
      "text/plain": [
       "0"
      ]
     },
     "execution_count": 43,
     "metadata": {},
     "output_type": "execute_result"
    }
   ],
   "source": [
    "handle_file_lsm(files[4])"
   ]
  },
  {
   "cell_type": "code",
   "execution_count": 44,
   "metadata": {
    "scrolled": true
   },
   "outputs": [
    {
     "name": "stderr",
     "output_type": "stream",
     "text": [
      "100%|██████████| 103/103 [00:21<00:00,  4.73it/s]"
     ]
    },
    {
     "name": "stdout",
     "output_type": "stream",
     "text": [
      "Best lambda: 0, Best nrmse: 0.00039581810607024177\n"
     ]
    },
    {
     "name": "stderr",
     "output_type": "stream",
     "text": [
      "\n"
     ]
    },
    {
     "data": {
      "text/plain": [
       "0"
      ]
     },
     "execution_count": 44,
     "metadata": {},
     "output_type": "execute_result"
    }
   ],
   "source": [
    "handle_file_lsm(files[5])"
   ]
  },
  {
   "cell_type": "code",
   "execution_count": 45,
   "metadata": {},
   "outputs": [
    {
     "name": "stderr",
     "output_type": "stream",
     "text": [
      "100%|██████████| 103/103 [00:07<00:00, 13.97it/s]"
     ]
    },
    {
     "name": "stdout",
     "output_type": "stream",
     "text": [
      "Best lambda: 0, Best nrmse: 2.2860829797040133e-06\n"
     ]
    },
    {
     "name": "stderr",
     "output_type": "stream",
     "text": [
      "\n"
     ]
    },
    {
     "data": {
      "text/plain": [
       "0"
      ]
     },
     "execution_count": 45,
     "metadata": {},
     "output_type": "execute_result"
    }
   ],
   "source": [
    "handle_file_lsm(files[6])"
   ]
  },
  {
   "cell_type": "code",
   "execution_count": null,
   "metadata": {},
   "outputs": [],
   "source": []
  }
 ],
 "metadata": {
  "kernelspec": {
   "display_name": "Python 3",
   "language": "python",
   "name": "python3"
  },
  "language_info": {
   "codemirror_mode": {
    "name": "ipython",
    "version": 3
   },
   "file_extension": ".py",
   "mimetype": "text/x-python",
   "name": "python",
   "nbconvert_exporter": "python",
   "pygments_lexer": "ipython3",
   "version": "3.8.4"
  }
 },
 "nbformat": 4,
 "nbformat_minor": 4
}