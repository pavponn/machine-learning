{
 "cells": [
  {
   "cell_type": "code",
   "execution_count": 49,
   "metadata": {},
   "outputs": [],
   "source": [
    "from sklearn import tree\n",
    "from typing import Dict, Tuple, Set, List\n",
    "from tqdm import tqdm\n",
    "import matplotlib.pyplot as plt\n",
    "from random import randint\n",
    "from collections import Counter"
   ]
  },
  {
   "cell_type": "code",
   "execution_count": 3,
   "metadata": {},
   "outputs": [],
   "source": [
    "class Dataset(object):\n",
    "    def __init__(self, clazzes_num, features_num, X, Y):\n",
    "        self.clazzes_num = clazzes_num\n",
    "        self.features_num = features_num\n",
    "        self.X = X\n",
    "        self.Y = Y\n",
    "\n",
    "def read_file(filename: str):\n",
    "    X: List[List[int]] = []\n",
    "    Y: List[int] = []\n",
    "    file = open(filename, \"r\")\n",
    "    features_num, clazzes_num = [int(x) for x in file.readline().split()]\n",
    "    num_objects = int(file.readline())\n",
    "    for i in range(num_objects):\n",
    "        features = [int(x) for x in file.readline().split()]\n",
    "        clazz = features.pop()\n",
    "        X.append(features)\n",
    "        Y.append(clazz)\n",
    "    return Dataset(clazzes_num, features_num, X, Y)"
   ]
  },
  {
   "cell_type": "code",
   "execution_count": 6,
   "metadata": {},
   "outputs": [],
   "source": [
    "FILES_NUM = 21\n",
    "FOLDER = \"DT_txt\"\n",
    "FILE_TRAIN_SUFFIX = \"_train.txt\"\n",
    "FILE_TEST_SUFFIX = \"_test.txt\""
   ]
  },
  {
   "cell_type": "code",
   "execution_count": 7,
   "metadata": {},
   "outputs": [
    {
     "name": "stdout",
     "output_type": "stream",
     "text": [
      "21\n",
      "21\n"
     ]
    }
   ],
   "source": [
    "train_datasets: List[Dataset] = []\n",
    "test_datasets: List[Dataset] = []\n",
    "for i in range(1, FILES_NUM + 1):\n",
    "    file_index = f'0{i}' if i < 10 else f'{i}'\n",
    "    train_file = FOLDER + \"/\" + file_index + FILE_TRAIN_SUFFIX\n",
    "    test_file = FOLDER + \"/\" + file_index + FILE_TEST_SUFFIX\n",
    "    train_datasets.append(read_file(train_file))\n",
    "    test_datasets.append(read_file(test_file))\n",
    "\n",
    "print(len(train_datasets))\n",
    "print(len(test_datasets))"
   ]
  },
  {
   "cell_type": "code",
   "execution_count": 11,
   "metadata": {},
   "outputs": [],
   "source": [
    "heights = [1, 2, 3, 4, 5, 6, 7, 8, 9, 10, 11]\n",
    "criterions = [\"gini\", \"entropy\"]\n",
    "splitters = [\"best\", \"random\"]"
   ]
  },
  {
   "cell_type": "code",
   "execution_count": 17,
   "metadata": {},
   "outputs": [],
   "source": [
    "def count_for_datasets(train_dataset: Dataset, test_dataset: Dataset):\n",
    "    best_accuracy = 0\n",
    "    best_height = -1\n",
    "    best_criterion = \"\"\n",
    "    best_splitter = \"\"\n",
    "    for height in heights:\n",
    "        for criterion in criterions:\n",
    "            for splitter in splitters:\n",
    "                clf = tree.DecisionTreeClassifier(criterion=criterion,splitter=splitter,max_depth=height)\n",
    "                clf.fit(train_dataset.X, train_dataset.Y)\n",
    "                accuracy = 0\n",
    "                for i in range(len(test_dataset.X)):\n",
    "                    pred = clf.predict([test_dataset.X[i]])\n",
    "                    if pred == test_dataset.Y[i]:\n",
    "                        accuracy += 1\n",
    "                accuracy /= len(test_dataset.Y)\n",
    "                if accuracy > best_accuracy:\n",
    "                    best_accuracy = accuracy\n",
    "                    best_height = height\n",
    "                    best_criterion = criterion\n",
    "                    best_splitter = splitter\n",
    "    return best_height, best_criterion, best_splitter, best_accuracy"
   ]
  },
  {
   "cell_type": "code",
   "execution_count": 20,
   "metadata": {},
   "outputs": [
    {
     "name": "stdout",
     "output_type": "stream",
     "text": [
      "Dataset #1: accuracy=0.9997429966589566, height=3, criterion=entropy, splitter=best\n",
      "Dataset #2: accuracy=0.7030534351145038, height=9, criterion=entropy, splitter=best\n",
      "Dataset #3: accuracy=1.0, height=1, criterion=gini, splitter=best\n",
      "Dataset #4: accuracy=0.9951304347826087, height=5, criterion=entropy, splitter=best\n",
      "Dataset #5: accuracy=0.9956709956709957, height=1, criterion=gini, splitter=best\n",
      "Dataset #6: accuracy=0.9988962472406181, height=3, criterion=entropy, splitter=best\n",
      "Dataset #7: accuracy=0.9967441860465116, height=3, criterion=entropy, splitter=best\n",
      "Dataset #8: accuracy=0.997920997920998, height=2, criterion=gini, splitter=best\n",
      "Dataset #9: accuracy=0.8529411764705882, height=5, criterion=entropy, splitter=best\n",
      "Dataset #10: accuracy=0.9979879275653923, height=4, criterion=entropy, splitter=best\n",
      "Dataset #11: accuracy=0.999195171026157, height=1, criterion=gini, splitter=best\n",
      "Dataset #12: accuracy=0.876789222565254, height=8, criterion=entropy, splitter=best\n",
      "Dataset #13: accuracy=0.6568807339449542, height=7, criterion=entropy, splitter=best\n",
      "Dataset #14: accuracy=0.990351215746816, height=5, criterion=entropy, splitter=best\n",
      "Dataset #15: accuracy=1.0, height=1, criterion=gini, splitter=best\n",
      "Dataset #16: accuracy=1.0, height=1, criterion=gini, splitter=best\n",
      "Dataset #17: accuracy=0.8458961474036851, height=7, criterion=entropy, splitter=best\n",
      "Dataset #18: accuracy=0.9426656738644825, height=5, criterion=entropy, splitter=best\n",
      "Dataset #19: accuracy=0.832708177044261, height=7, criterion=entropy, splitter=best\n",
      "Dataset #20: accuracy=0.9698890649762282, height=7, criterion=entropy, splitter=best\n",
      "Dataset #21: accuracy=0.8091312618896639, height=11, criterion=entropy, splitter=best\n"
     ]
    }
   ],
   "source": [
    "for i in range(FILES_NUM):\n",
    "    best_height, best_criterion, best_splitter, best_accuracy = count_for_datasets(train_datasets[i], test_datasets[i])\n",
    "    print(f'Dataset #{i + 1}: accuracy={best_accuracy}, height={best_height}, criterion={best_criterion}, splitter={best_splitter}')"
   ]
  },
  {
   "cell_type": "code",
   "execution_count": 23,
   "metadata": {},
   "outputs": [],
   "source": [
    "# max height=11 for dataset #21 \n",
    "# min height=1 for dataset #3\n",
    "min_num = \"03\"\n",
    "min_index = 2\n",
    "min_height = 1\n",
    "criterion_for_min = \"gini\"\n",
    "splitter_for_min = \"best\"\n",
    "\n",
    "max_num = \"21\"\n",
    "max_index = 20\n",
    "max_height = 11\n",
    "criterion_for_max = \"entropy\"\n",
    "splitter_for_max = \"best\""
   ]
  },
  {
   "cell_type": "code",
   "execution_count": 36,
   "metadata": {},
   "outputs": [],
   "source": [
    "# min\n",
    "train_accuracies_min = []\n",
    "test_accuracies_min = []\n",
    "for height in heights:\n",
    "    clf = tree.DecisionTreeClassifier(criterion=criterion_for_min,splitter=splitter_for_min,max_depth=height)\n",
    "    clf.fit(train_datasets[min_index].X, train_datasets[min_index].Y)\n",
    "    ####### train accuracy\n",
    "    train_accuracy = 0\n",
    "    for i in range(len(train_datasets[min_index].X)):\n",
    "        pred = clf.predict([train_datasets[min_index].X[i]])\n",
    "        if pred == train_datasets[min_index].Y[i]:\n",
    "            train_accuracy += 1\n",
    "    train_accuracy /= len(train_datasets[min_index].Y)\n",
    "    train_accuracies_min.append(train_accuracy)\n",
    "    ######################\n",
    "    ####### test accuracy\n",
    "    test_accuracy = 0\n",
    "    for i in range(len(test_datasets[min_index].X)):\n",
    "        pred = clf.predict([test_datasets[min_index].X[i]])\n",
    "        if pred == test_datasets[min_index].Y[i]:\n",
    "            test_accuracy += 1\n",
    "    test_accuracy /= len(test_datasets[min_index].Y)\n",
    "    test_accuracies_min.append(test_accuracy)"
   ]
  },
  {
   "cell_type": "code",
   "execution_count": 37,
   "metadata": {},
   "outputs": [],
   "source": [
    "# max\n",
    "train_accuracies_max = []\n",
    "test_accuracies_max = []\n",
    "for height in heights:\n",
    "    clf = tree.DecisionTreeClassifier(criterion=criterion_for_max,splitter=splitter_for_max,max_depth=height)\n",
    "    clf.fit(train_datasets[max_index].X, train_datasets[max_index].Y)\n",
    "    ####### train accuracy\n",
    "    train_accuracy = 0\n",
    "    for i in range(len(train_datasets[max_index].X)):\n",
    "        pred = clf.predict([train_datasets[max_index].X[i]])\n",
    "        if pred == train_datasets[max_index].Y[i]:\n",
    "            train_accuracy += 1\n",
    "    train_accuracy /= len(train_datasets[max_index].Y)\n",
    "    train_accuracies_max.append(train_accuracy)\n",
    "    ######################\n",
    "    ####### test accuracy\n",
    "    test_accuracy = 0\n",
    "    for i in range(len(test_datasets[max_index].X)):\n",
    "        pred = clf.predict([test_datasets[max_index].X[i]])\n",
    "        if pred == test_datasets[max_index].Y[i]:\n",
    "            test_accuracy += 1\n",
    "    test_accuracy /= len(test_datasets[max_index].Y)\n",
    "    test_accuracies_max.append(test_accuracy)"
   ]
  },
  {
   "cell_type": "code",
   "execution_count": 38,
   "metadata": {},
   "outputs": [],
   "source": [
    "def show_plot_heights_accuracies(x, y, title):\n",
    "    plt.title(title)\n",
    "    plt.plot(x, y)\n",
    "    plt.ylabel('Accuracy')\n",
    "    plt.xlabel('Height')\n",
    "    plt.show()"
   ]
  },
  {
   "cell_type": "code",
   "execution_count": 43,
   "metadata": {},
   "outputs": [
    {
     "data": {
      "image/png": "[encoded data removed]",
      "text/plain": [
       "<Figure size 432x288 with 1 Axes>"
      ]
     },
     "metadata": {
      "needs_background": "light"
     },
     "output_type": "display_data"
    }
   ],
   "source": [
    "show_plot_heights_accuracies(heights, train_accuracies_min, \"Minimum Optimal Height (train)\")"
   ]
  },
  {
   "cell_type": "code",
   "execution_count": 44,
   "metadata": {},
   "outputs": [
    {
     "data": {
      "image/png": "[encoded data removed]",
      "text/plain": [
       "<Figure size 432x288 with 1 Axes>"
      ]
     },
     "metadata": {
      "needs_background": "light"
     },
     "output_type": "display_data"
    }
   ],
   "source": [
    "show_plot_heights_accuracies(heights, test_accuracies_min, \"Minimum Optimal Height (test)\")"
   ]
  },
  {
   "cell_type": "code",
   "execution_count": 45,
   "metadata": {},
   "outputs": [
    {
     "data": {
      "image/png": "[encoded data removed]",
      "text/plain": [
       "<Figure size 432x288 with 1 Axes>"
      ]
     },
     "metadata": {
      "needs_background": "light"
     },
     "output_type": "display_data"
    }
   ],
   "source": [
    "show_plot_heights_accuracies(heights, train_accuracies_max, \"Maximum Optimal Height (train)\")"
   ]
  },
  {
   "cell_type": "code",
   "execution_count": 46,
   "metadata": {},
   "outputs": [
    {
     "data": {
      "image/png": "[encoded data removed]",
      "text/plain": [
       "<Figure size 432x288 with 1 Axes>"
      ]
     },
     "metadata": {
      "needs_background": "light"
     },
     "output_type": "display_data"
    }
   ],
   "source": [
    "show_plot_heights_accuracies(heights, test_accuracies_max, \"Maximum Optimal Height (test)\")"
   ]
  },
  {
   "cell_type": "code",
   "execution_count": 73,
   "metadata": {},
   "outputs": [],
   "source": [
    "def generate_random_sample(dataset: Dataset):\n",
    "    size = len(dataset.X)\n",
    "    random_X: List[List[int]] = []\n",
    "    random_Y: List[int] = []\n",
    "    for i in range(size):\n",
    "        index = randint(0, size - 1)\n",
    "        random_X.append(dataset.X[i])\n",
    "        random_Y.append(dataset.Y[i])\n",
    "    return random_X, random_Y\n",
    "    "
   ]
  },
  {
   "cell_type": "code",
   "execution_count": 92,
   "metadata": {},
   "outputs": [],
   "source": [
    "# random forest\n",
    "def random_forest_for_dataset(train_dataset, trees_num=101):\n",
    "    trees = []\n",
    "    for i in range(trees_num):\n",
    "        clf = tree.DecisionTreeClassifier()\n",
    "        X, y = generate_random_sample(train_dataset)\n",
    "        clf.fit(X, y)\n",
    "        trees.append(clf)\n",
    "    return trees\n",
    "\n",
    "def forest_predict(trees, x):\n",
    "    predictions = []\n",
    "    for tree in trees:\n",
    "        predictions.append(tree.predict([x])[0])\n",
    "    res, _unused = Counter(predictions).most_common(1)[0]\n",
    "#     print(predictions)\n",
    "    return res\n",
    "\n",
    "    "
   ]
  },
  {
   "cell_type": "code",
   "execution_count": 95,
   "metadata": {},
   "outputs": [],
   "source": [
    "def handle_dataset_forest(train_dataset: Dataset, test_dataset: Dataset):\n",
    "    forest = random_forest_for_dataset(train_dataset)\n",
    "    train_accuracy = 0\n",
    "    test_accuracy = 0\n",
    "    \n",
    "    for i in range(len(train_dataset.X)):\n",
    "        pred = forest_predict(forest, train_dataset.X[i])\n",
    "        if pred == train_dataset.Y[i]:\n",
    "            train_accuracy += 1\n",
    "    train_accuracy /= len(train_dataset.X)\n",
    "\n",
    "    for i in range(len(test_dataset.X)):\n",
    "        pred = forest_predict(forest, test_dataset.X[i]) \n",
    "        if pred == test_dataset.Y[i]:\n",
    "            test_accuracy += 1\n",
    "    test_accuracy /= len(test_dataset.X)\n",
    "    return train_accuracy, test_accuracy"
   ]
  },
  {
   "cell_type": "code",
   "execution_count": 96,
   "metadata": {},
   "outputs": [
    {
     "name": "stdout",
     "output_type": "stream",
     "text": [
      "Dataset #1: train accuracy=1.0, test accuracy=0.9393472115137497\n",
      "Dataset #2: train accuracy=1.0, test accuracy=0.6391857506361324\n",
      "Dataset #3: train accuracy=1.0, test accuracy=0.9652844744455159\n",
      "Dataset #4: train accuracy=1.0, test accuracy=0.9725217391304348\n",
      "Dataset #5: train accuracy=1.0, test accuracy=0.9653679653679653\n",
      "Dataset #6: train accuracy=1.0, test accuracy=0.9552980132450332\n",
      "Dataset #7: train accuracy=1.0, test accuracy=0.9586046511627907\n",
      "Dataset #8: train accuracy=1.0, test accuracy=0.9958419958419958\n",
      "Dataset #9: train accuracy=1.0, test accuracy=0.803921568627451\n",
      "Dataset #10: train accuracy=1.0, test accuracy=0.9444668008048289\n",
      "Dataset #11: train accuracy=1.0, test accuracy=0.9517102615694165\n",
      "Dataset #12: train accuracy=1.0, test accuracy=0.8554588829637946\n",
      "Dataset #13: train accuracy=1.0, test accuracy=0.6165137614678899\n",
      "Dataset #14: train accuracy=1.0, test accuracy=0.9382477807796218\n",
      "Dataset #15: train accuracy=1.0, test accuracy=0.9615615615615616\n",
      "Dataset #16: train accuracy=1.0, test accuracy=0.9638629283489096\n",
      "Dataset #17: train accuracy=1.0, test accuracy=0.8023450586264657\n",
      "Dataset #18: train accuracy=1.0, test accuracy=0.892777364110201\n",
      "Dataset #19: train accuracy=1.0, test accuracy=0.7906976744186046\n",
      "Dataset #20: train accuracy=1.0, test accuracy=0.93026941362916\n",
      "Dataset #21: train accuracy=1.0, test accuracy=0.7767913760304376\n"
     ]
    }
   ],
   "source": [
    "for i in range(FILES_NUM):\n",
    "    train_accuracy, test_accuracy = handle_dataset_forest(train_datasets[i], test_datasets[i])\n",
    "    print(f'Dataset #{i + 1}: train accuracy={train_accuracy}, test accuracy={test_accuracy}')"
   ]
  },
  {
   "cell_type": "code",
   "execution_count": null,
   "metadata": {},
   "outputs": [],
   "source": []
  },
  {
   "cell_type": "code",
   "execution_count": null,
   "metadata": {},
   "outputs": [],
   "source": []
  }
 ],
 "metadata": {
  "kernelspec": {
   "display_name": "Python 3",
   "language": "python",
   "name": "python3"
  },
  "language_info": {
   "codemirror_mode": {
    "name": "ipython",
    "version": 3
   },
   "file_extension": ".py",
   "mimetype": "text/x-python",
   "name": "python",
   "nbconvert_exporter": "python",
   "pygments_lexer": "ipython3",
   "version": "3.8.4"
  }
 },
 "nbformat": 4,
 "nbformat_minor": 4
}
